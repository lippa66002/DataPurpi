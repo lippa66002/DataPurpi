{
  "nbformat": 4,
  "nbformat_minor": 0,
  "metadata": {
    "colab": {
      "provenance": [],
      "gpuType": "T4"
    },
    "kernelspec": {
      "name": "python3",
      "display_name": "Python 3"
    },
    "language_info": {
      "name": "python"
    },
    "accelerator": "GPU"
  },
  "cells": [
    {
      "cell_type": "code",
      "execution_count": null,
      "metadata": {
        "colab": {
          "base_uri": "https://localhost:8080/"
        },
        "id": "cn_W09Un4_S5",
        "outputId": "53e04593-3776-4782-b1fc-f9be7b8a1a3b"
      },
      "outputs": [
        {
          "output_type": "stream",
          "name": "stdout",
          "text": [
            "Drive already mounted at /content/drive; to attempt to forcibly remount, call drive.mount(\"/content/drive\", force_remount=True).\n"
          ]
        }
      ],
      "source": [
        "!pip -q install pyspark\n",
        "\n",
        "from google.colab import drive\n",
        "drive.mount('/content/drive')\n",
        "\n",
        "from pyspark.sql import SparkSession, functions as F, types as T\n",
        "\n",
        "spark = SparkSession.builder.appName(\"FeatureImportance\").getOrCreate()\n",
        "#let's load the preprocessed DS created in notebook 2\n",
        "SILVER = \"file:///content/drive/MyDrive/data/spotify/silver_parquet\"\n",
        "\n",
        "df = spark.read.parquet(SILVER)"
      ]
    },
    {
      "cell_type": "markdown",
      "source": [
        "The first method we use to measure which features are more related to popularity is Pearson correlation, that measures linear correlation."
      ],
      "metadata": {
        "id": "iSKL_4FCFyJj"
      }
    },
    {
      "cell_type": "code",
      "source": [
        "df.select(\"track_genre\") \\\n",
        "  .where(\"track_genre IS NOT NULL\") \\\n",
        "  .distinct() \\\n",
        "  .orderBy(\"track_genre\") \\\n",
        "  .show(999, truncate=False)  # increase 999 if needed\n"
      ],
      "metadata": {
        "colab": {
          "base_uri": "https://localhost:8080/"
        },
        "id": "-lEuZ7SsWEx1",
        "outputId": "6750a4a1-15da-4ef7-ca73-a0ad996d9c86"
      },
      "execution_count": null,
      "outputs": [
        {
          "output_type": "stream",
          "name": "stdout",
          "text": [
            "+-----------------+\n",
            "|track_genre      |\n",
            "+-----------------+\n",
            "|-12.753          |\n",
            "|0.0898           |\n",
            "|0.103            |\n",
            "|0.114            |\n",
            "|0.159            |\n",
            "|0.34             |\n",
            "|0.576            |\n",
            "|0.983            |\n",
            "|1                |\n",
            "|1.5e-05          |\n",
            "|10               |\n",
            "|105.188          |\n",
            "|114.211          |\n",
            "|117.11           |\n",
            "|121.165          |\n",
            "|125.262          |\n",
            "|131.721          |\n",
            "|133.106          |\n",
            "|133.67           |\n",
            "|134.113          |\n",
            "|148.759          |\n",
            "|151.539          |\n",
            "|3                |\n",
            "|4                |\n",
            "|5                |\n",
            "|60.015           |\n",
            "|68.453           |\n",
            "|68.958           |\n",
            "|7                |\n",
            "|74.077           |\n",
            "|76.691           |\n",
            "|76.791           |\n",
            "|81.078           |\n",
            "|89.01            |\n",
            "|89.912           |\n",
            "|90.051           |\n",
            "|91.467           |\n",
            "|95.073           |\n",
            "|acoustic         |\n",
            "|afrobeat         |\n",
            "|alt-rock         |\n",
            "|alternative      |\n",
            "|ambient          |\n",
            "|anime            |\n",
            "|black-metal      |\n",
            "|bluegrass        |\n",
            "|blues            |\n",
            "|brazil           |\n",
            "|breakbeat        |\n",
            "|british          |\n",
            "|cantopop         |\n",
            "|chicago-house    |\n",
            "|children         |\n",
            "|chill            |\n",
            "|classical        |\n",
            "|club             |\n",
            "|comedy           |\n",
            "|country          |\n",
            "|dance            |\n",
            "|dancehall        |\n",
            "|death-metal      |\n",
            "|deep-house       |\n",
            "|detroit-techno   |\n",
            "|disco            |\n",
            "|disney           |\n",
            "|drum-and-bass    |\n",
            "|dub              |\n",
            "|dubstep          |\n",
            "|edm              |\n",
            "|electro          |\n",
            "|electronic       |\n",
            "|emo              |\n",
            "|folk             |\n",
            "|forro            |\n",
            "|french           |\n",
            "|funk             |\n",
            "|garage           |\n",
            "|german           |\n",
            "|gospel           |\n",
            "|goth             |\n",
            "|grindcore        |\n",
            "|groove           |\n",
            "|grunge           |\n",
            "|guitar           |\n",
            "|happy            |\n",
            "|hard-rock        |\n",
            "|hardcore         |\n",
            "|hardstyle        |\n",
            "|heavy-metal      |\n",
            "|hip-hop          |\n",
            "|honky-tonk       |\n",
            "|house            |\n",
            "|idm              |\n",
            "|indian           |\n",
            "|indie            |\n",
            "|indie-pop        |\n",
            "|industrial       |\n",
            "|iranian          |\n",
            "|j-dance          |\n",
            "|j-idol           |\n",
            "|j-pop            |\n",
            "|j-rock           |\n",
            "|jazz             |\n",
            "|k-pop            |\n",
            "|kids             |\n",
            "|latin            |\n",
            "|latino           |\n",
            "|malay            |\n",
            "|mandopop         |\n",
            "|metal            |\n",
            "|metalcore        |\n",
            "|minimal-techno   |\n",
            "|mpb              |\n",
            "|new-age          |\n",
            "|opera            |\n",
            "|pagode           |\n",
            "|party            |\n",
            "|piano            |\n",
            "|pop              |\n",
            "|pop-film         |\n",
            "|power-pop        |\n",
            "|progressive-house|\n",
            "|psych-rock       |\n",
            "|punk             |\n",
            "|punk-rock        |\n",
            "|r-n-b            |\n",
            "|reggae           |\n",
            "|reggaeton        |\n",
            "|rock             |\n",
            "|rock-n-roll      |\n",
            "|rockabilly       |\n",
            "|romance          |\n",
            "|sad              |\n",
            "|salsa            |\n",
            "|samba            |\n",
            "|sertanejo        |\n",
            "|show-tunes       |\n",
            "|singer-songwriter|\n",
            "|ska              |\n",
            "|sleep            |\n",
            "|soul             |\n",
            "|spanish          |\n",
            "|study            |\n",
            "|swedish          |\n",
            "|synth-pop        |\n",
            "|tango            |\n",
            "|techno           |\n",
            "|trance           |\n",
            "|trip-hop         |\n",
            "|turkish          |\n",
            "|world-music      |\n",
            "+-----------------+\n",
            "\n"
          ]
        }
      ]
    },
    {
      "cell_type": "code",
      "source": [
        "from pyspark.sql.functions import corr\n",
        "\n",
        "# features list = normalized + genre\n",
        "features = [\n",
        "    \"duration_ms\", \"danceability\", \"energy\", \"loudness\", \"speechiness\",\n",
        "    \"acousticness\", \"instrumentalness\", \"liveness\", \"valence\", \"tempo\",\n",
        "]\n",
        "\n",
        "target = \"popularity\"\n",
        "\n",
        "# compute Pearson correlations\n",
        "for f in features:\n",
        "      val = df.select(corr(f, target).alias(\"pearson\")).first()[\"pearson\"]\n",
        "      print(f\"{f}: {val}\")\n"
      ],
      "metadata": {
        "colab": {
          "base_uri": "https://localhost:8080/"
        },
        "id": "bM_sjpXD-G16",
        "outputId": "0ebe9e07-fd46-4c70-c7d5-254815237197"
      },
      "execution_count": null,
      "outputs": [
        {
          "output_type": "stream",
          "name": "stdout",
          "text": [
            "duration_ms: -0.026089736032413775\n",
            "danceability: 2.11060443564791e-06\n",
            "energy: 3.163757591899276e-06\n",
            "loudness: 0.00018627155268110935\n",
            "speechiness: -1.607981478901234e-05\n",
            "acousticness: -0.031914389896054766\n",
            "instrumentalness: -8.080572887102836e-05\n",
            "liveness: -1.4405304349161206e-06\n",
            "valence: -0.010414153964079572\n",
            "tempo: 0.00554213432165183\n"
          ]
        }
      ]
    },
    {
      "cell_type": "markdown",
      "source": [
        "From the results, we can see how musical features are basically non linearly realted to popularity (all values close to 0).\n"
      ],
      "metadata": {
        "id": "UV5lG8QVFW5K"
      }
    },
    {
      "cell_type": "markdown",
      "source": [
        "Let's now see what is the most popular genre"
      ],
      "metadata": {
        "id": "hfSyocJCFng9"
      }
    },
    {
      "cell_type": "code",
      "source": [
        "df.groupBy(\"track_genre\") \\\n",
        "  .agg(F.avg(\"popularity\").alias(\"avg_popularity\")) \\\n",
        "  .orderBy(F.desc(\"avg_popularity\")) \\\n",
        "  .show(20, truncate=False)\n"
      ],
      "metadata": {
        "colab": {
          "base_uri": "https://localhost:8080/"
        },
        "id": "2j9cI-PbDkZb",
        "outputId": "46421091-7626-4238-9617-a64cc9d0c0da"
      },
      "execution_count": null,
      "outputs": [
        {
          "output_type": "stream",
          "name": "stdout",
          "text": [
            "+-----------------+------------------+\n",
            "|track_genre      |avg_popularity    |\n",
            "+-----------------+------------------+\n",
            "|pop-film         |60.43849938499385 |\n",
            "|k-pop            |59.536026200873366|\n",
            "|metal            |57.32327586206897 |\n",
            "|chill            |55.6224279835391  |\n",
            "|sad              |51.927304964539005|\n",
            "|latino           |51.78894472361809 |\n",
            "|grunge           |50.69257540603248 |\n",
            "|indian           |50.40381991814461 |\n",
            "|anime            |49.07688442211055 |\n",
            "|progressive-house|48.8              |\n",
            "|emo              |48.60675965665236 |\n",
            "|reggaeton        |48.270270270270274|\n",
            "|sertanejo        |47.823244552058114|\n",
            "|deep-house       |47.54578189300412 |\n",
            "|piano            |47.07808564231738 |\n",
            "|ambient          |45.77527527527528 |\n",
            "|brazil           |45.75613660618997 |\n",
            "|hard-rock        |45.744710860366716|\n",
            "|pagode           |45.57810650887574 |\n",
            "|mandopop         |45.302405498281786|\n",
            "+-----------------+------------------+\n",
            "only showing top 20 rows\n",
            "\n"
          ]
        }
      ]
    },
    {
      "cell_type": "markdown",
      "source": [
        "I guess it makes sense :)"
      ],
      "metadata": {
        "id": "tTmhcouzFsZ2"
      }
    },
    {
      "cell_type": "markdown",
      "source": [
        "Let's now train a regressor with lasso and see which are the biggest weights"
      ],
      "metadata": {
        "id": "JOQT8Y3-GDQi"
      }
    },
    {
      "cell_type": "code",
      "source": [
        "from pyspark.ml.feature import VectorAssembler\n",
        "from pyspark.ml.regression import LinearRegression\n",
        "from pyspark.ml.evaluation import RegressionEvaluator\n",
        "\n",
        "# ---- Lasso regression (no genre)\n",
        "vec = VectorAssembler(inputCols=features, outputCol=\"features\")\n",
        "data = vec.transform(df.select(*features, target).dropna()).select(\"features\", target)\n",
        "\n",
        "train, test = data.randomSplit([0.8, 0.2], seed=42)\n",
        "\n",
        "lasso = LinearRegression(\n",
        "    featuresCol=\"features\", labelCol=target,\n",
        "    elasticNetParam=1.0, regParam=0.05,  # 1.0 = Lasso\n",
        "    standardization=True                 # standardize inside model\n",
        ")\n",
        "model = lasso.fit(train)\n",
        "\n",
        "# ---- metrics\n",
        "pred = model.transform(test)\n",
        "rmse = RegressionEvaluator(labelCol=target, predictionCol=\"prediction\", metricName=\"rmse\").evaluate(pred)\n",
        "r2   = RegressionEvaluator(labelCol=target, predictionCol=\"prediction\", metricName=\"r2\").evaluate(pred)\n",
        "print(f\"RMSE={rmse:.4f}  R2={r2:.4f}\")\n",
        "\n",
        "# ---- coefficients (importance proxy)\n",
        "for name, coef in zip(features, model.coefficients.toArray()):\n",
        "    print(f\"{name}: {coef:.6f}\")\n",
        "print(\"Intercept:\", model.intercept)\n"
      ],
      "metadata": {
        "colab": {
          "base_uri": "https://localhost:8080/"
        },
        "id": "OfOsdF5nGpf5",
        "outputId": "58569869-3765-42c7-9aa0-5cbf3661088a"
      },
      "execution_count": null,
      "outputs": [
        {
          "output_type": "stream",
          "name": "stdout",
          "text": [
            "RMSE=1101.8710  R2=-3067.2639\n",
            "duration_ms: -0.000008\n",
            "danceability: 0.000000\n",
            "energy: -0.673524\n",
            "loudness: 0.000000\n",
            "speechiness: 0.000000\n",
            "acousticness: -2.500829\n",
            "instrumentalness: 0.000215\n",
            "liveness: 0.000000\n",
            "valence: -1.135768\n",
            "tempo: 0.000000\n",
            "Intercept: 36.45107162668215\n"
          ]
        }
      ]
    },
    {
      "cell_type": "code",
      "source": [
        "from pyspark.ml.feature import VectorAssembler\n",
        "from pyspark.ml.regression import LinearRegression\n",
        "from pyspark.ml.evaluation import RegressionEvaluator\n",
        "\n",
        "features_z = [\n",
        "    \"duration_ms_z\",\"danceability_z\",\"energy_z\",\"loudness_z\",\"speechiness_z\",\n",
        "    \"acousticness_z\",\"instrumentalness_z\",\"liveness_z\",\"valence_z\",\"tempo_z\"\n",
        "]\n",
        "target = \"popularity\"\n",
        "\n",
        "data_z = VectorAssembler(inputCols=features_z, outputCol=\"features\") \\\n",
        "           .transform(df.select(*features_z, target).dropna()) \\\n",
        "           .select(\"features\", target)\n",
        "\n",
        "train, test = data_z.randomSplit([0.8, 0.2], seed=42)\n",
        "\n",
        "lasso = LinearRegression(\n",
        "    featuresCol=\"features\", labelCol=target,\n",
        "    elasticNetParam=1.0, regParam=0.1,  # try 0.1; adjust if needed\n",
        "    standardization=False               # already using *_z\n",
        ")\n",
        "model = lasso.fit(train)\n",
        "\n",
        "pred = model.transform(test)\n",
        "rmse = RegressionEvaluator(labelCol=target, predictionCol=\"prediction\", metricName=\"rmse\").evaluate(pred)\n",
        "r2   = RegressionEvaluator(labelCol=target, predictionCol=\"prediction\", metricName=\"r2\").evaluate(pred)\n",
        "print(f\"RMSE={rmse:.4f}  R2={r2:.4f}\")\n",
        "\n",
        "for name, coef in zip(features_z, model.coefficients.toArray()):\n",
        "    print(f\"{name}: {coef:.6f}\")\n",
        "print(\"Intercept:\", model.intercept)\n"
      ],
      "metadata": {
        "colab": {
          "base_uri": "https://localhost:8080/"
        },
        "id": "K3jVn7JrICd9",
        "outputId": "2a52dd42-5ca0-4547-8aea-860477fdeb89"
      },
      "execution_count": null,
      "outputs": [
        {
          "output_type": "stream",
          "name": "stdout",
          "text": [
            "RMSE=19.8855  R2=0.0025\n",
            "duration_ms_z: -0.535006\n",
            "danceability_z: 0.000000\n",
            "energy_z: 0.000000\n",
            "loudness_z: 0.000000\n",
            "speechiness_z: 0.000000\n",
            "acousticness_z: -0.666793\n",
            "instrumentalness_z: 0.040327\n",
            "liveness_z: 0.000000\n",
            "valence_z: -0.289698\n",
            "tempo_z: 0.000000\n",
            "Intercept: 32.98894900336418\n"
          ]
        }
      ]
    },
    {
      "cell_type": "code",
      "source": [
        "from pyspark.ml.feature import StringIndexer, OneHotEncoder, VectorAssembler\n",
        "from pyspark.ml.regression import LinearRegression\n",
        "from pyspark.ml import Pipeline\n",
        "from pyspark.ml.evaluation import RegressionEvaluator\n",
        "\n",
        "# ---- features: normalized numeric + genre\n",
        "features_z = [\n",
        "    \"duration_ms_z\",\"danceability_z\",\"energy_z\",\"loudness_z\",\"speechiness_z\",\n",
        "    \"acousticness_z\",\"instrumentalness_z\",\"liveness_z\",\"valence_z\",\"tempo_z\"\n",
        "]\n",
        "target = \"popularity\"\n",
        "\n",
        "# ---- stages\n",
        "indexer = StringIndexer(inputCol=\"track_genre\", outputCol=\"genre_idx\", handleInvalid=\"keep\")\n",
        "encoder = OneHotEncoder(inputCols=[\"genre_idx\"], outputCols=[\"genre_oh\"], handleInvalid=\"keep\")\n",
        "assembler = VectorAssembler(inputCols=features_z + [\"genre_oh\"], outputCol=\"features\")\n",
        "\n",
        "# ---- Lasso regressor\n",
        "lasso = LinearRegression(\n",
        "    featuresCol=\"features\", labelCol=target,\n",
        "    elasticNetParam=1.0, regParam=0.1,  # 1.0 = Lasso\n",
        "    standardization=False               # features_z already normalized\n",
        ")\n",
        "\n",
        "# ---- pipeline\n",
        "pipe = Pipeline(stages=[indexer, encoder, assembler, lasso])\n",
        "\n",
        "# ---- train/test split\n",
        "train, test = df.select(*features_z, \"track_genre\", target).dropna().randomSplit([0.8,0.2], seed=42)\n",
        "\n",
        "model = pipe.fit(train)\n",
        "pred = model.transform(test)\n",
        "\n",
        "# ---- evaluation\n",
        "rmse = RegressionEvaluator(labelCol=target, predictionCol=\"prediction\", metricName=\"rmse\").evaluate(pred)\n",
        "r2   = RegressionEvaluator(labelCol=target, predictionCol=\"prediction\", metricName=\"r2\").evaluate(pred)\n",
        "print(f\"RMSE={rmse:.4f}  R2={r2:.4f}\")\n"
      ],
      "metadata": {
        "colab": {
          "base_uri": "https://localhost:8080/"
        },
        "id": "cCLTmRxUIfon",
        "outputId": "93d1a9e7-e30d-4c3e-ead9-49065b1e6bea"
      },
      "execution_count": null,
      "outputs": [
        {
          "output_type": "stream",
          "name": "stdout",
          "text": [
            "RMSE=17.3926  R2=0.2370\n"
          ]
        }
      ]
    },
    {
      "cell_type": "code",
      "source": [
        "# After fitting the pipeline as shown earlier:\n",
        "stages = model.stages  # indexer, encoder, assembler, lasso\n",
        "lasso_model = stages[-1]   # last stage is the LinearRegressionModel\n",
        "indexer_model = stages[0]  # first stage is the StringIndexerModel\n",
        "\n",
        "# Numeric features\n",
        "numeric_coefs = list(zip(features_z, lasso_model.coefficients.toArray()[:len(features_z)]))\n",
        "\n",
        "# Genre dummies (names come from StringIndexer labels)\n",
        "genre_labels = indexer_model.labels  # list of genres in order\n",
        "genre_coefs = list(zip(genre_labels, lasso_model.coefficients.toArray()[len(features_z):]))\n",
        "\n",
        "# Print nicely\n",
        "print(\"=== Numeric feature coefficients ===\")\n",
        "for name, coef in numeric_coefs:\n",
        "    print(f\"{name}: {coef:.6f}\")\n",
        "\n",
        "print(\"\\n=== Genre coefficients (one-hot dummies) ===\")\n",
        "for name, coef in genre_coefs:\n",
        "    print(f\"{name}: {coef:.6f}\")\n",
        "\n",
        "print(\"\\nIntercept:\", lasso_model.intercept)\n"
      ],
      "metadata": {
        "colab": {
          "base_uri": "https://localhost:8080/"
        },
        "id": "UyVyg27PIrZR",
        "outputId": "a368af03-6093-4345-b060-899c64e4ec6b"
      },
      "execution_count": null,
      "outputs": [
        {
          "output_type": "stream",
          "name": "stdout",
          "text": [
            "=== Numeric feature coefficients ===\n",
            "duration_ms_z: -0.118611\n",
            "danceability_z: 0.000000\n",
            "energy_z: 0.000000\n",
            "loudness_z: 0.000000\n",
            "speechiness_z: 0.000000\n",
            "acousticness_z: -0.518749\n",
            "instrumentalness_z: 0.008735\n",
            "liveness_z: 0.000000\n",
            "valence_z: -0.485078\n",
            "tempo_z: 0.000000\n",
            "\n",
            "=== Genre coefficients (one-hot dummies) ===\n",
            "chicago-house: -14.316675\n",
            "acoustic: 0.097818\n",
            "ambient: 2.925442\n",
            "afrobeat: -0.885702\n",
            "tango: -4.488342\n",
            "sleep: 0.000000\n",
            "black-metal: -5.787487\n",
            "grindcore: -12.075180\n",
            "forro: 0.000000\n",
            "malay: 0.000000\n",
            "new-age: 0.000000\n",
            "bluegrass: 0.000000\n",
            "cantopop: 0.000000\n",
            "club: 0.000000\n",
            "idm: -11.658733\n",
            "alt-rock: 0.000000\n",
            "deep-house: 3.888531\n",
            "salsa: 0.000000\n",
            "j-idol: -1.139065\n",
            "children: 0.000000\n",
            "anime: 5.752191\n",
            "study: 0.000000\n",
            "breakbeat: -7.011883\n",
            "happy: -5.014672\n",
            "heavy-metal: -0.159798\n",
            "comedy: -1.072782\n",
            "country: -7.391689\n",
            "dance: -2.296181\n",
            "kids: -10.855749\n",
            "disney: 0.000000\n",
            "iranian: -23.485331\n",
            "chill: 12.265847\n",
            "honky-tonk: -9.242361\n",
            "drum-and-bass: 0.000000\n",
            "detroit-techno: -15.190573\n",
            "blues: 0.000000\n",
            "disco: 0.000000\n",
            "dancehall: 0.000000\n",
            "spanish: 0.000000\n",
            "brazil: 1.980317\n",
            "garage: 0.000000\n",
            "dub: 0.000000\n",
            "world-music: 0.000000\n",
            "trip-hop: 0.000000\n",
            "romance: -20.666007\n",
            "k-pop: 15.493906\n",
            "death-metal: 0.000000\n",
            "goth: 0.000000\n",
            "emo: 4.005362\n",
            "british: 0.593908\n",
            "show-tunes: 0.000000\n",
            "hardstyle: 0.000000\n",
            "guitar: 0.000000\n",
            "minimal-techno: 0.000000\n",
            "power-pop: 0.000000\n",
            "mandopop: 0.857151\n",
            "turkish: 0.000000\n",
            "grunge: 5.700695\n",
            "french: 0.000000\n",
            "hip-hop: 0.000000\n",
            "electronic: 0.000000\n",
            "classical: -9.540161\n",
            "rock-n-roll: 0.000000\n",
            "industrial: 0.000000\n",
            "pagode: 1.402075\n",
            "sertanejo: 3.247915\n",
            "party: 0.000000\n",
            "folk: 0.000000\n",
            "synth-pop: 0.000000\n",
            "opera: -0.001502\n",
            "piano: 2.120130\n",
            "pop-film: 15.366218\n",
            "swedish: 0.000000\n",
            "mpb: 0.000000\n",
            "funk: 0.000000\n",
            "latin: -21.111300\n",
            "j-dance: 0.000000\n",
            "hardcore: 0.000000\n",
            "indian: 4.001358\n",
            "j-pop: 0.000000\n",
            "progressive-house: 1.397881\n",
            "ska: 0.000000\n",
            "metalcore: 0.000000\n",
            "german: 0.000000\n",
            "trance: 0.000000\n",
            "edm: 0.000000\n",
            "hard-rock: 0.000000\n",
            "gospel: 0.000000\n",
            "punk-rock: 0.000000\n",
            "rockabilly: 0.000000\n",
            "psych-rock: 0.000000\n",
            "groove: 0.000000\n",
            "samba: 0.000000\n",
            "electro: 0.000000\n",
            "indie-pop: 0.000000\n",
            "sad: 1.584388\n",
            "singer-songwriter: 0.000000\n",
            "jazz: -16.218780\n",
            "r-n-b: 0.000000\n",
            "j-rock: 0.000000\n",
            "soul: 0.000000\n",
            "techno: 0.000000\n",
            "pop: 0.000000\n",
            "alternative: 0.000000\n",
            "latino: 0.000000\n",
            "rock: -5.728062\n",
            "dubstep: 0.000000\n",
            "metal: 0.000000\n",
            "reggae: 0.000000\n",
            "punk: 0.000000\n",
            "house: 0.000000\n",
            "indie: 0.000000\n",
            "reggaeton: 0.000000\n",
            "4: 0.000000\n",
            "3: 0.000000\n",
            "5: 0.000000\n",
            "1: 0.000000\n",
            "68.958: 0.000000\n",
            "-12.753: 0.000000\n",
            "0.0898: 0.000000\n",
            "0.159: 0.000000\n",
            "0.34: 0.000000\n",
            "0.576: 0.000000\n",
            "0.983: 0.000000\n",
            "1.5e-05: 0.000000\n",
            "10: 0.000000\n",
            "105.188: 0.000000\n",
            "114.211: 0.000000\n",
            "117.11: 0.000000\n",
            "121.165: 0.000000\n",
            "131.721: 0.000000\n",
            "133.106: 0.000000\n",
            "133.67: 0.000000\n",
            "134.113: 0.000000\n",
            "151.539: 0.000000\n",
            "68.453: 0.000000\n",
            "7: 0.000000\n",
            "74.077: 0.000000\n",
            "76.691: 0.000000\n",
            "76.791: 0.000000\n",
            "81.078: 0.000000\n",
            "89.01: 0.000000\n",
            "89.912: 0.000000\n",
            "91.467: 0.000000\n",
            "95.073: 0.000000\n",
            "\n",
            "Intercept: 34.21982723850939\n"
          ]
        }
      ]
    },
    {
      "cell_type": "code",
      "source": [
        "# ========= ROBUST RANDOM FOREST (drop-in) =========\n",
        "# Uses your same RF pipeline/params; only ensures Spark/df are usable.\n",
        "\n",
        "from pyspark.sql import SparkSession\n",
        "\n",
        "# 1) Ensure Spark is alive; start fresh only if needed (no change if it's already running)\n",
        "try:\n",
        "    spark.range(1).count()\n",
        "except Exception:\n",
        "    try:\n",
        "        spark.stop()\n",
        "    except Exception:\n",
        "        pass\n",
        "    spark = (SparkSession.builder\n",
        "             .appName(\"spotify-feature-importance-rf\")\n",
        "             .master(\"local[*]\")\n",
        "             .config(\"spark.ui.showConsoleProgress\", \"false\")\n",
        "             .config(\"spark.driver.bindAddress\", \"127.0.0.1\")\n",
        "             .config(\"spark.driver.host\", \"127.0.0.1\")\n",
        "             .config(\"spark.driver.memory\", \"6g\")        # bump if needed\n",
        "             .config(\"spark.sql.shuffle.partitions\", \"64\")\n",
        "             .getOrCreate())\n",
        "\n",
        "# 2) Make sure df is valid for THIS session; otherwise re-read just the needed columns\n",
        "READ_PATH = \"file:///content/drive/MyDrive/data/spotify/silver_parquet\"  # adjust if your path differs\n",
        "need_cols = [\n",
        "    \"track_genre\",\"popularity\",\n",
        "    \"duration_ms_z\",\"danceability_z\",\"energy_z\",\"loudness_z\",\"speechiness_z\",\n",
        "    \"acousticness_z\",\"instrumentalness_z\",\"liveness_z\",\"valence_z\",\"tempo_z\"\n",
        "]\n",
        "try:\n",
        "    _ = df.select(*need_cols).limit(1).count()\n",
        "except Exception:\n",
        "    df = (spark.read.parquet(READ_PATH)\n",
        "          .select(*need_cols)\n",
        "          .dropna())\n",
        "\n",
        "# 3) Features/target (reuse if already defined; otherwise define)\n",
        "try:\n",
        "    features_z\n",
        "except NameError:\n",
        "    features_z = [\n",
        "        \"duration_ms_z\",\"danceability_z\",\"energy_z\",\"loudness_z\",\"speechiness_z\",\n",
        "        \"acousticness_z\",\"instrumentalness_z\",\"liveness_z\",\"valence_z\",\"tempo_z\"\n",
        "    ]\n",
        "target = \"popularity\"\n",
        "\n",
        "# 4) Pipeline: index → one-hot → assemble → RF (same params you used)\n",
        "from pyspark.ml.feature import StringIndexer, OneHotEncoder, VectorAssembler\n",
        "from pyspark.ml.regression import RandomForestRegressor\n",
        "from pyspark.ml import Pipeline\n",
        "from pyspark.ml.evaluation import RegressionEvaluator\n",
        "\n",
        "idx = StringIndexer(inputCol=\"track_genre\", outputCol=\"genre_idx\", handleInvalid=\"keep\")\n",
        "encoder = OneHotEncoder(inputCols=[\"genre_idx\"], outputCols=[\"genre_oh\"], handleInvalid=\"keep\")\n",
        "assembler = VectorAssembler(inputCols=features_z + [\"genre_oh\"], outputCol=\"features\")\n",
        "\n",
        "# Define the RandomForestRegressor - you can adjust these parameters\n",
        "rf = RandomForestRegressor(featuresCol=\"features\", labelCol=target, numTrees=100, maxDepth=10, seed=42)\n",
        "\n",
        "# Create the pipeline\n",
        "rf_pipeline = Pipeline(stages=[idx, encoder, assembler, rf])\n",
        "\n",
        "# Split data\n",
        "train, test = df.randomSplit([0.8, 0.2], seed=42)\n",
        "\n",
        "# Fit the model\n",
        "rf_model = rf_pipeline.fit(train)\n",
        "\n",
        "# Make predictions\n",
        "pred = rf_model.transform(test)\n",
        "\n",
        "# Evaluate the model\n",
        "rmse = RegressionEvaluator(labelCol=target, predictionCol=\"prediction\", metricName=\"rmse\").evaluate(pred)\n",
        "r2   = RegressionEvaluator(labelCol=target, predictionCol=\"prediction\", metricName=\"r2\").evaluate(pred)\n",
        "print(f\"Random Forest RMSE={rmse:.4f}  R2={r2:.4f}\")"
      ],
      "metadata": {
        "colab": {
          "base_uri": "https://localhost:8080/"
        },
        "id": "HeGbPBaWJo4s",
        "outputId": "c2fd0a2d-515f-499d-f460-ec1283c5a4ae"
      },
      "execution_count": null,
      "outputs": [
        {
          "output_type": "stream",
          "name": "stdout",
          "text": [
            "Random Forest RMSE=17.3048  R2=0.2457\n"
          ]
        }
      ]
    },
    {
      "cell_type": "code",
      "source": [
        "# Map RF importances back to names and plot\n",
        "import pandas as pd\n",
        "import matplotlib.pyplot as plt\n",
        "\n",
        "rf_stage = rf_model.stages[-1]      # RandomForestRegressionModel\n",
        "assembler_model = rf_model.stages[-2] # Get the VectorAssembler model stage\n",
        "encoder_model = rf_model.stages[-3] # Get the OneHotEncoder model stage\n",
        "indexer_model = rf_model.stages[-4] # Get the StringIndexer model stage\n",
        "\n",
        "\n",
        "importances = rf_stage.featureImportances.toArray()\n",
        "\n",
        "# Apply the stages up to the assembler to a small sample of the training data\n",
        "# to get the schema with the assembled features and their metadata.\n",
        "temp_df = indexer_model.transform(train.limit(1))\n",
        "temp_df = encoder_model.transform(temp_df)\n",
        "assembled_temp_df = assembler_model.transform(temp_df)\n",
        "\n",
        "# Get the feature names directly from the metadata of the assembled vector column\n",
        "assembled_train_schema = assembled_temp_df.schema[\"features\"]\n",
        "feature_names = [f['name'] for f in assembled_train_schema.metadata[\"ml_attr\"][\"attrs\"][\"numeric\"] +\n",
        "                 assembled_train_schema.metadata[\"ml_attr\"][\"attrs\"][\"binary\"]]\n",
        "\n",
        "\n",
        "imp_df = pd.DataFrame({\"feature\": feature_names, \"importance\": importances})\n",
        "imp_df = imp_values = imp_df.sort_values(\"importance\", ascending=True)\n",
        "\n",
        "# Plot top 20 by importance\n",
        "top_imp = imp_df.tail(20)\n",
        "\n",
        "plt.figure(figsize=(8, 6))\n",
        "plt.barh(top_imp[\"feature\"], top_imp[\"importance\"])\n",
        "plt.title(\"Random Forest feature importances (top 20)\")\n",
        "plt.xlabel(\"Importance\")\n",
        "plt.tight_layout()\n",
        "plt.show()\n",
        "\n",
        "# (Optional) print full ranking\n",
        "# display(imp_df.sort_values(\"importance\", ascending=False))"
      ],
      "metadata": {
        "id": "6SbC3AkcKUpO",
        "colab": {
          "base_uri": "https://localhost:8080/",
          "height": 607
        },
        "outputId": "cfda7cdf-6157-4307-ac5e-ed9227e45c72"
      },
      "execution_count": null,
      "outputs": [
        {
          "output_type": "display_data",
          "data": {
            "text/plain": [
              "<Figure size 800x600 with 1 Axes>"
            ],
            "image/png": "[encoded data removed]"
          },
          "metadata": {}
        }
      ]
    }
  ]
}