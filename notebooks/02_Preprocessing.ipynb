{
  "nbformat": 4,
  "nbformat_minor": 0,
  "metadata": {
    "colab": {
      "provenance": []
    },
    "kernelspec": {
      "name": "python3",
      "display_name": "Python 3"
    },
    "language_info": {
      "name": "python"
    }
  },
  "cells": [
    {
      "cell_type": "markdown",
      "source": [
        "## 1) Setup Spark + Drive"
      ],
      "metadata": {
        "id": "QsTUZHIqOFcT"
      }
    },
    {
      "cell_type": "code",
      "execution_count": 10,
      "metadata": {
        "colab": {
          "base_uri": "https://localhost:8080/"
        },
        "id": "ZIvGDBIXN-0X",
        "outputId": "0f945cd5-2762-4ce7-ed81-a0e25ed5a821"
      },
      "outputs": [
        {
          "output_type": "stream",
          "name": "stdout",
          "text": [
            "Drive already mounted at /content/drive; to attempt to forcibly remount, call drive.mount(\"/content/drive\", force_remount=True).\n",
            "Rows: 114000\n",
            "root\n",
            " |-- Unnamed: 0: integer (nullable = true)\n",
            " |-- track_id: string (nullable = true)\n",
            " |-- artists: string (nullable = true)\n",
            " |-- album_name: string (nullable = true)\n",
            " |-- track_name: string (nullable = true)\n",
            " |-- popularity: string (nullable = true)\n",
            " |-- duration_ms: string (nullable = true)\n",
            " |-- explicit: string (nullable = true)\n",
            " |-- danceability: string (nullable = true)\n",
            " |-- energy: string (nullable = true)\n",
            " |-- key: string (nullable = true)\n",
            " |-- loudness: string (nullable = true)\n",
            " |-- mode: string (nullable = true)\n",
            " |-- speechiness: string (nullable = true)\n",
            " |-- acousticness: string (nullable = true)\n",
            " |-- instrumentalness: double (nullable = true)\n",
            " |-- liveness: string (nullable = true)\n",
            " |-- valence: string (nullable = true)\n",
            " |-- tempo: double (nullable = true)\n",
            " |-- time_signature: double (nullable = true)\n",
            " |-- track_genre: string (nullable = true)\n",
            "\n",
            "+----------+----------------------+----------------------+------------------------------------------------------+--------------------------+----------+-----------+--------+------------+------+---+--------+----+-----------+------------+----------------+--------+-------+-------+--------------+-----------+\n",
            "|Unnamed: 0|track_id              |artists               |album_name                                            |track_name                |popularity|duration_ms|explicit|danceability|energy|key|loudness|mode|speechiness|acousticness|instrumentalness|liveness|valence|tempo  |time_signature|track_genre|\n",
            "+----------+----------------------+----------------------+------------------------------------------------------+--------------------------+----------+-----------+--------+------------+------+---+--------+----+-----------+------------+----------------+--------+-------+-------+--------------+-----------+\n",
            "|0         |5SuOikwiRyPMVoIQDJUgSV|Gen Hoshino           |Comedy                                                |Comedy                    |73        |230666     |False   |0.676       |0.461 |1  |-6.746  |0   |0.143      |0.0322      |1.01E-6         |0.358   |0.715  |87.917 |4.0           |acoustic   |\n",
            "|1         |4qPNDBW1i3p13qLCt0Ki3A|Ben Woodward          |Ghost (Acoustic)                                      |Ghost - Acoustic          |55        |149610     |False   |0.42        |0.166 |1  |-17.235 |1   |0.0763     |0.924       |5.56E-6         |0.101   |0.267  |77.489 |4.0           |acoustic   |\n",
            "|2         |1iJBSr7s7jYXzM8EGcbK5b|Ingrid Michaelson;ZAYN|To Begin Again                                        |To Begin Again            |57        |210826     |False   |0.438       |0.359 |0  |-9.734  |1   |0.0557     |0.21        |0.0             |0.117   |0.12   |76.332 |4.0           |acoustic   |\n",
            "|3         |6lfxq3CG4xtTiEg7opyCyx|Kina Grannis          |Crazy Rich Asians (Original Motion Picture Soundtrack)|Can't Help Falling In Love|71        |201933     |False   |0.266       |0.0596|0  |-18.515 |1   |0.0363     |0.905       |7.07E-5         |0.132   |0.143  |181.74 |3.0           |acoustic   |\n",
            "|4         |5vjLSffimiIP26QG5WcN2K|Chord Overstreet      |Hold On                                               |Hold On                   |82        |198853     |False   |0.618       |0.443 |2  |-9.681  |1   |0.0526     |0.469       |0.0             |0.0829  |0.167  |119.949|4.0           |acoustic   |\n",
            "+----------+----------------------+----------------------+------------------------------------------------------+--------------------------+----------+-----------+--------+------------+------+---+--------+----+-----------+------------+----------------+--------+-------+-------+--------------+-----------+\n",
            "only showing top 5 rows\n",
            "\n"
          ]
        }
      ],
      "source": [
        "!pip -q install pyspark\n",
        "\n",
        "from google.colab import drive\n",
        "drive.mount('/content/drive')\n",
        "\n",
        "from pyspark.sql import SparkSession, functions as F, types as T, Window as W\n",
        "\n",
        "spark = SparkSession.builder.appName(\"SpotifyPreprocessing\").getOrCreate()\n",
        "\n",
        "BRONZE = \"file:///content/drive/MyDrive/data/spotify/bronze_parquet\"  # from 01_Data_Ingestion.ipynb\n",
        "SILVER = \"file:///content/drive/MyDrive/data/spotify/silver_parquet\"  # output of this notebook\n",
        "\n",
        "df = spark.read.parquet(BRONZE)\n",
        "print(\"Rows:\", df.count())\n",
        "df.printSchema()\n",
        "df.show(5, truncate=False)"
      ]
    },
    {
      "cell_type": "markdown",
      "source": [
        "## 2) Column plan"
      ],
      "metadata": {
        "id": "UGWEyM_ZQJ_W"
      }
    },
    {
      "cell_type": "code",
      "source": [
        "# Define column groups\n",
        "id_cols = [\"track_id\"]\n",
        "cat_cols = [\"artists\", \"album_name\", \"track_name\", \"track_genre\", \"key\"]\n",
        "bool_cols = [\"explicit\"]\n",
        "num_cols_as_string = [\n",
        "    \"popularity\",\"duration_ms\",\"danceability\",\"energy\",\"loudness\",\"mode\",\n",
        "    \"speechiness\",\"acousticness\",\"instrumentalness\",\"liveness\",\"valence\",\n",
        "    \"tempo\",\"time_signature\"\n",
        "]\n",
        "drop_cols = [\"Unnamed: 0\"]  # junk index\n",
        "\n",
        "# Drop junk, trim strings, normalize empties to null (single pass)\n",
        "df1 = df.drop(*[c for c in drop_cols if c in df.columns])\n",
        "\n",
        "# detect string columns via schema\n",
        "string_cols = [f.name for f in df1.schema.fields if isinstance(f.dataType, T.StringType)]\n",
        "\n",
        "exprs = []\n",
        "for c in df1.columns:\n",
        "    if c in string_cols:\n",
        "        trimmed = F.trim(F.col(c))\n",
        "        exprs.append(F.when(trimmed == \"\", None).otherwise(trimmed).alias(c))\n",
        "    else:\n",
        "        exprs.append(F.col(c))\n",
        "df1 = df1.select(*exprs)\n",
        "\n",
        "# Safe cast helper\n",
        "def safe_cast(col, new_type):\n",
        "    casted = F.col(col).cast(new_type)\n",
        "    return F.when(casted.isNotNull(), casted).otherwise(None)\n",
        "\n",
        "# Booleans and numerics\n",
        "df2 = df1\n",
        "\n",
        "# explicit: robust string->bool\n",
        "if \"explicit\" in df2.columns:\n",
        "    df2 = df2.withColumn(\n",
        "        \"explicit\",\n",
        "        F.when(F.lower(F.col(\"explicit\")).isin(\"true\",\"1\",\"t\",\"yes\"), F.lit(True))\n",
        "         .when(F.lower(F.col(\"explicit\")).isin(\"false\",\"0\",\"f\",\"no\"), F.lit(False))\n",
        "         .otherwise(None).cast(T.BooleanType())\n",
        "    )\n",
        "\n",
        "# Cast numeric-looking columns\n",
        "for c in num_cols_as_string:\n",
        "    if c in df2.columns:\n",
        "        if c in [\"popularity\", \"duration_ms\", \"mode\", \"time_signature\"]:\n",
        "            df2 = df2.withColumn(c, safe_cast(c, T.IntegerType()))\n",
        "        else:\n",
        "            df2 = df2.withColumn(c, safe_cast(c, T.DoubleType()))\n",
        "\n",
        "# 'key' often integer: cast if currently string\n",
        "if \"key\" in df2.columns and dict(df2.dtypes).get(\"key\") == \"string\":\n",
        "    df2 = df2.withColumn(\"key\", safe_cast(\"key\", T.IntegerType()))\n",
        "\n",
        "df2.printSchema()\n",
        "df2.show(5, truncate=False)"
      ],
      "metadata": {
        "colab": {
          "base_uri": "https://localhost:8080/"
        },
        "id": "2zv5Zi6IQMTA",
        "outputId": "25d2bc76-ffff-4a49-b72b-ed14be16a592"
      },
      "execution_count": 11,
      "outputs": [
        {
          "output_type": "stream",
          "name": "stdout",
          "text": [
            "root\n",
            " |-- track_id: string (nullable = true)\n",
            " |-- artists: string (nullable = true)\n",
            " |-- album_name: string (nullable = true)\n",
            " |-- track_name: string (nullable = true)\n",
            " |-- popularity: integer (nullable = true)\n",
            " |-- duration_ms: integer (nullable = true)\n",
            " |-- explicit: boolean (nullable = true)\n",
            " |-- danceability: double (nullable = true)\n",
            " |-- energy: double (nullable = true)\n",
            " |-- key: integer (nullable = true)\n",
            " |-- loudness: double (nullable = true)\n",
            " |-- mode: integer (nullable = true)\n",
            " |-- speechiness: double (nullable = true)\n",
            " |-- acousticness: double (nullable = true)\n",
            " |-- instrumentalness: double (nullable = true)\n",
            " |-- liveness: double (nullable = true)\n",
            " |-- valence: double (nullable = true)\n",
            " |-- tempo: double (nullable = true)\n",
            " |-- time_signature: integer (nullable = true)\n",
            " |-- track_genre: string (nullable = true)\n",
            "\n",
            "+----------------------+----------------------+------------------------------------------------------+--------------------------+----------+-----------+--------+------------+------+---+--------+----+-----------+------------+----------------+--------+-------+-------+--------------+-----------+\n",
            "|track_id              |artists               |album_name                                            |track_name                |popularity|duration_ms|explicit|danceability|energy|key|loudness|mode|speechiness|acousticness|instrumentalness|liveness|valence|tempo  |time_signature|track_genre|\n",
            "+----------------------+----------------------+------------------------------------------------------+--------------------------+----------+-----------+--------+------------+------+---+--------+----+-----------+------------+----------------+--------+-------+-------+--------------+-----------+\n",
            "|5SuOikwiRyPMVoIQDJUgSV|Gen Hoshino           |Comedy                                                |Comedy                    |73        |230666     |false   |0.676       |0.461 |1  |-6.746  |0   |0.143      |0.0322      |1.01E-6         |0.358   |0.715  |87.917 |4             |acoustic   |\n",
            "|4qPNDBW1i3p13qLCt0Ki3A|Ben Woodward          |Ghost (Acoustic)                                      |Ghost - Acoustic          |55        |149610     |false   |0.42        |0.166 |1  |-17.235 |1   |0.0763     |0.924       |5.56E-6         |0.101   |0.267  |77.489 |4             |acoustic   |\n",
            "|1iJBSr7s7jYXzM8EGcbK5b|Ingrid Michaelson;ZAYN|To Begin Again                                        |To Begin Again            |57        |210826     |false   |0.438       |0.359 |0  |-9.734  |1   |0.0557     |0.21        |0.0             |0.117   |0.12   |76.332 |4             |acoustic   |\n",
            "|6lfxq3CG4xtTiEg7opyCyx|Kina Grannis          |Crazy Rich Asians (Original Motion Picture Soundtrack)|Can't Help Falling In Love|71        |201933     |false   |0.266       |0.0596|0  |-18.515 |1   |0.0363     |0.905       |7.07E-5         |0.132   |0.143  |181.74 |3             |acoustic   |\n",
            "|5vjLSffimiIP26QG5WcN2K|Chord Overstreet      |Hold On                                               |Hold On                   |82        |198853     |false   |0.618       |0.443 |2  |-9.681  |1   |0.0526     |0.469       |0.0             |0.0829  |0.167  |119.949|4             |acoustic   |\n",
            "+----------------------+----------------------+------------------------------------------------------+--------------------------+----------+-----------+--------+------------+------+---+--------+----+-----------+------------+----------------+--------+-------+-------+--------------+-----------+\n",
            "only showing top 5 rows\n",
            "\n"
          ]
        }
      ]
    },
    {
      "cell_type": "markdown",
      "source": [
        "## 3)  De-duplication & basic filters"
      ],
      "metadata": {
        "id": "nOSgxJmWQSl3"
      }
    },
    {
      "cell_type": "code",
      "source": [
        "df2 = df2.cache()\n",
        "before = df2.count()\n",
        "\n",
        "keys = [\"track_id\", \"album_name\", \"track_name\"]\n",
        "existing_keys = [k for k in keys if k in df2.columns]\n",
        "if existing_keys:\n",
        "    w = W.partitionBy(*existing_keys).orderBy(\n",
        "        F.col(\"popularity\").desc_nulls_last(),\n",
        "        F.col(\"duration_ms\").desc_nulls_last()\n",
        "    )\n",
        "    df3 = (df2\n",
        "           .withColumn(\"_rn\", F.row_number().over(w))\n",
        "           .where(F.col(\"_rn\") == 1)\n",
        "           .drop(\"_rn\"))\n",
        "else:\n",
        "    df3 = df2.dropDuplicates()\n",
        "\n",
        "after = df3.count()\n",
        "print(\"Dropped duplicates:\", before - after)\n",
        "\n",
        "# Remove rows missing essential identifiers or genre\n",
        "required = [c for c in [\"track_id\", \"track_name\", \"track_genre\"] if c in df3.columns]\n",
        "if len(required) < 3:\n",
        "    missing = set([\"track_id\", \"track_name\", \"track_genre\"]) - set(required)\n",
        "    print(f\"Warning: missing expected columns: {sorted(missing)}\")\n",
        "\n",
        "if required:\n",
        "    df3 = df3.where(F.col(\"track_id\").isNotNull() &\n",
        "                    F.col(\"track_name\").isNotNull() &\n",
        "                    F.col(\"track_genre\").isNotNull())\n",
        "\n",
        "# Sanity filter: duration must be positive if present\n",
        "if \"duration_ms\" in df3.columns:\n",
        "    df3 = df3.where((F.col(\"duration_ms\").isNull()) | (F.col(\"duration_ms\") > 0))"
      ],
      "metadata": {
        "colab": {
          "base_uri": "https://localhost:8080/"
        },
        "id": "UP0l2q8LQWAG",
        "outputId": "4f36c341-1c7e-456c-bc46-c6ad30710db1"
      },
      "execution_count": 12,
      "outputs": [
        {
          "output_type": "stream",
          "name": "stdout",
          "text": [
            "Dropped duplicates: 24259\n"
          ]
        }
      ]
    },
    {
      "cell_type": "markdown",
      "source": [
        "## 4) Missing values — median imputation per genre"
      ],
      "metadata": {
        "id": "LcW4oQ3-QaZ3"
      }
    },
    {
      "cell_type": "code",
      "source": [
        "target_num_cols = [\n",
        "    \"popularity\",\"duration_ms\",\"danceability\",\"energy\",\"loudness\",\"mode\",\n",
        "    \"speechiness\",\"acousticness\",\"instrumentalness\",\"liveness\",\"valence\",\n",
        "    \"tempo\",\"time_signature\",\"key\"\n",
        "]\n",
        "target_num_cols = [c for c in target_num_cols if c in df3.columns]\n",
        "\n",
        "# If track_genre is missing, just do global medians and return early\n",
        "if \"track_genre\" not in df3.columns or not target_num_cols:\n",
        "    print(\"Note: track_genre not found or no numeric columns; using global medians only.\")\n",
        "    global_row = df3.select(*[F.expr(f\"percentile_approx({c}, 0.5)\").alias(f\"med_{c}\") for c in target_num_cols]).first()\n",
        "    global_vals = {c: float(global_row[f\"med_{c}\"]) if global_row[f\"med_{c}\"] is not None else None\n",
        "                   for c in target_num_cols}\n",
        "    df4 = df3\n",
        "    for c in target_num_cols:\n",
        "        df4 = df4.withColumn(c, F.coalesce(F.col(c), F.lit(global_vals[c])))\n",
        "else:\n",
        "    # Per-genre medians\n",
        "    per_genre = (\n",
        "        df3.groupBy(\"track_genre\")\n",
        "           .agg(*[F.expr(f\"percentile_approx({c}, 0.5)\").alias(f\"med_{c}\") for c in target_num_cols])\n",
        "           .cache()\n",
        "    )\n",
        "\n",
        "    # Global medians (fallbacks)\n",
        "    global_row = df3.select(*[F.expr(f\"percentile_approx({c}, 0.5)\").alias(f\"med_{c}\") for c in target_num_cols]).first()\n",
        "    global_vals = {f\"med_{c}\": (float(global_row[f\"med_{c}\"]) if global_row[f\"med_{c}\"] is not None else None)\n",
        "                   for c in target_num_cols}\n",
        "\n",
        "    # Join medians to rows\n",
        "    df4 = df3.join(per_genre, on=\"track_genre\", how=\"left\")\n",
        "\n",
        "    # Fill nulls: value <- coalesce(value, per-genre median, global median)\n",
        "    for c in target_num_cols:\n",
        "        med_col = f\"med_{c}\"\n",
        "        df4 = df4.withColumn(\n",
        "            c,\n",
        "            F.coalesce(F.col(c), F.col(med_col), F.lit(global_vals[med_col]))\n",
        "        )\n",
        "\n",
        "    # Drop helper median columns\n",
        "    df4 = df4.drop(*[f\"med_{c}\" for c in target_num_cols])\n",
        "\n",
        "# Quick check\n",
        "df4.select(\"track_genre\", *[c for c in target_num_cols[:6]]).show(5, truncate=False)"
      ],
      "metadata": {
        "id": "sHCJMcl3QdWJ",
        "colab": {
          "base_uri": "https://localhost:8080/"
        },
        "outputId": "dab9b942-462a-43fb-eb03-37b40b556cd3"
      },
      "execution_count": 13,
      "outputs": [
        {
          "output_type": "stream",
          "name": "stdout",
          "text": [
            "+--------------+----------+-----------+------------+------+--------+----+\n",
            "|track_genre   |popularity|duration_ms|danceability|energy|loudness|mode|\n",
            "+--------------+----------+-----------+------------+------+--------+----+\n",
            "|hip-hop       |62.0      |190203.0   |0.679       |0.77  |-3.537  |1.0 |\n",
            "|minimal-techno|19.0      |331240.0   |0.519       |0.431 |-13.606 |0.0 |\n",
            "|comedy        |24.0      |127040.0   |0.536       |0.78  |-9.449  |0.0 |\n",
            "|chill         |0.0       |176320.0   |0.613       |0.471 |-6.644  |0.0 |\n",
            "|punk-rock     |38.0      |177266.0   |0.554       |0.921 |-4.589  |1.0 |\n",
            "+--------------+----------+-----------+------------+------+--------+----+\n",
            "only showing top 5 rows\n",
            "\n"
          ]
        }
      ]
    },
    {
      "cell_type": "markdown",
      "source": [
        "## 5) Outliers — IQR capping per genre"
      ],
      "metadata": {
        "id": "b6ZwtyGOQkqp"
      }
    },
    {
      "cell_type": "code",
      "source": [
        "# Columns we actually want to cap with IQR (exclude categorical-like ints)\n",
        "cap_cols = [c for c in target_num_cols if c not in [\"mode\", \"key\", \"time_signature\"]]\n",
        "\n",
        "# If track_genre is missing or no columns to cap, just pass through\n",
        "if \"track_genre\" not in df4.columns or not cap_cols:\n",
        "    df5 = df4\n",
        "else:\n",
        "    # Compute per-genre Q1 & Q3 for each column to cap\n",
        "    q1_exprs = [F.expr(f\"percentile_approx({c}, 0.25)\").alias(f\"q1_{c}\") for c in cap_cols]\n",
        "    q3_exprs = [F.expr(f\"percentile_approx({c}, 0.75)\").alias(f\"q3_{c}\") for c in cap_cols]\n",
        "\n",
        "    iqr_stats = df4.groupBy(\"track_genre\").agg(*q1_exprs, *q3_exprs).cache()\n",
        "\n",
        "    # Join stats onto rows\n",
        "    df5 = df4.join(iqr_stats, on=\"track_genre\", how=\"left\")\n",
        "\n",
        "    # Apply IQR capping per column (null-safe)\n",
        "    for c in cap_cols:\n",
        "        q1c, q3c = F.col(f\"q1_{c}\"), F.col(f\"q3_{c}\")\n",
        "        iqr = (q3c - q1c)\n",
        "        low = q1c - F.lit(1.5) * iqr\n",
        "        high = q3c + F.lit(1.5) * iqr\n",
        "\n",
        "        # cap only when bounds are non-null and value is non-null\n",
        "        capped = (\n",
        "            F.when(F.col(c).isNull() | q1c.isNull() | q3c.isNull(), F.col(c))\n",
        "             .when(F.col(c) < low, low)\n",
        "             .when(F.col(c) > high, high)\n",
        "             .otherwise(F.col(c))\n",
        "        )\n",
        "\n",
        "        df5 = df5.withColumn(c, capped)\n",
        "\n",
        "    # Domain-aware clamps (post-cap)\n",
        "    #   - rates in [0,1]\n",
        "    for c in set(cap_cols).intersection({\"danceability\",\"energy\",\"speechiness\",\"acousticness\",\n",
        "                                         \"instrumentalness\",\"liveness\",\"valence\"}):\n",
        "        df5 = df5.withColumn(c,\n",
        "                F.when(F.col(c).isNull(), None)\n",
        "                 .when(F.col(c) < 0, F.lit(0.0))\n",
        "                 .when(F.col(c) > 1, F.lit(1.0))\n",
        "                 .otherwise(F.col(c)))\n",
        "\n",
        "    #   - duration_ms >= 0 (integer)\n",
        "    if \"duration_ms\" in df5.columns:\n",
        "        df5 = df5.withColumn(\"duration_ms\",\n",
        "                F.when(F.col(\"duration_ms\").isNull(), None)\n",
        "                 .when(F.col(\"duration_ms\") < 0, F.lit(0))\n",
        "                 .otherwise(F.col(\"duration_ms\")))\n",
        "\n",
        "    #   - popularity in [0,100] if present\n",
        "    if \"popularity\" in df5.columns:\n",
        "        df5 = df5.withColumn(\"popularity\",\n",
        "                F.when(F.col(\"popularity\").isNull(), None)\n",
        "                 .when(F.col(\"popularity\") < 0, F.lit(0))\n",
        "                 .when(F.col(\"popularity\") > 100, F.lit(100))\n",
        "                 .otherwise(F.col(\"popularity\")))\n",
        "\n",
        "    # Drop helper columns\n",
        "    helper_cols = [f\"q1_{c}\" for c in cap_cols] + [f\"q3_{c}\" for c in cap_cols]\n",
        "    df5 = df5.drop(*[h for h in helper_cols if h in df5.columns])\n",
        "\n",
        "df5.select(\"track_genre\", *[c for c in cap_cols[:6] if c in df5.columns]).show(5, truncate=False)"
      ],
      "metadata": {
        "id": "BCOyDzpAQn2z",
        "colab": {
          "base_uri": "https://localhost:8080/"
        },
        "outputId": "3de10c7f-9890-449b-d5b5-deb0673a625e"
      },
      "execution_count": 14,
      "outputs": [
        {
          "output_type": "stream",
          "name": "stdout",
          "text": [
            "+--------------+----------+-----------+------------+------+--------+-----------+\n",
            "|track_genre   |popularity|duration_ms|danceability|energy|loudness|speechiness|\n",
            "+--------------+----------+-----------+------------+------+--------+-----------+\n",
            "|hip-hop       |62.0      |190203.0   |0.679       |0.77  |-3.537  |0.19       |\n",
            "|minimal-techno|19.0      |331240.0   |0.519       |0.431 |-13.606 |0.0291     |\n",
            "|comedy        |24.0      |127040.0   |0.536       |0.78  |-9.449  |0.945      |\n",
            "|chill         |36.0      |176320.0   |0.613       |0.471 |-6.644  |0.107      |\n",
            "|punk-rock     |38.0      |177266.0   |0.554       |0.921 |-4.589  |0.0758     |\n",
            "+--------------+----------+-----------+------------+------+--------+-----------+\n",
            "only showing top 5 rows\n",
            "\n"
          ]
        }
      ]
    },
    {
      "cell_type": "markdown",
      "source": [
        "## 6) Normalization — Z-score for numerics"
      ],
      "metadata": {
        "id": "hmDulC1VQtGv"
      }
    },
    {
      "cell_type": "code",
      "source": [
        "cont_cols = [c for c in target_num_cols\n",
        "             if c in df5.columns and c not in [\"mode\",\"time_signature\",\"key\"]]\n",
        "\n",
        "# compute global means/stddevs\n",
        "agg_exprs = []\n",
        "for c in cont_cols:\n",
        "    agg_exprs.append(F.mean(c).alias(f\"mean_{c}\"))\n",
        "    agg_exprs.append(F.stddev_pop(c).alias(f\"std_{c}\"))\n",
        "\n",
        "stats_row = df5.agg(*agg_exprs).first()\n",
        "stats = stats_row.asDict()\n",
        "\n",
        "df6 = df5\n",
        "for c in cont_cols:\n",
        "    mean_c = stats.get(f\"mean_{c}\")\n",
        "    std_c  = stats.get(f\"std_{c}\")\n",
        "    if mean_c is not None and std_c not in (None, 0.0):\n",
        "        df6 = df6.withColumn(\n",
        "            f\"{c}_z\",\n",
        "            (F.col(c) - F.lit(float(mean_c))) / F.lit(float(std_c))\n",
        "        )\n",
        "\n",
        "df6.select(*(id_cols + [\"track_name\",\"track_genre\"] +\n",
        "             cont_cols + [f\"{c}_z\" for c in cont_cols])\n",
        "          ).show(5, truncate=False)"
      ],
      "metadata": {
        "colab": {
          "base_uri": "https://localhost:8080/"
        },
        "id": "sfixa8UcQwBd",
        "outputId": "dc77bd59-05df-4b80-d947-7460e7961150"
      },
      "execution_count": 15,
      "outputs": [
        {
          "output_type": "stream",
          "name": "stdout",
          "text": [
            "+----------------------+----------------------------------------+--------------+----------+-----------+------------+------+--------+-----------+------------+---------------------+--------+-------+-------+--------------------+-------------------+--------------------+-------------------+----------------------+--------------------+--------------------+--------------------+-------------------+--------------------+-------------------+\n",
            "|track_id              |track_name                              |track_genre   |popularity|duration_ms|danceability|energy|loudness|speechiness|acousticness|instrumentalness     |liveness|valence|tempo  |popularity_z        |duration_ms_z      |danceability_z      |energy_z           |loudness_z            |speechiness_z       |acousticness_z      |instrumentalness_z  |liveness_z         |valence_z           |tempo_z            |\n",
            "+----------------------+----------------------------------------+--------------+----------+-----------+------------+------+--------+-----------+------------+---------------------+--------+-------+-------+--------------------+-------------------+--------------------+-------------------+----------------------+--------------------+--------------------+--------------------+-------------------+--------------------+-------------------+\n",
            "|000RDCYioLteXcutOjeweY|Teeje Week                              |hip-hop       |62.0      |190203.0   |0.679       |0.77  |-3.537  |0.19       |0.0583      |0.0                  |0.0825  |0.839  |161.721|1.4558075575555638  |-0.421097457048033 |0.6596920164836747  |0.5250657657991482 |-0.0029102853820694463|1.058207973489222   |-0.7872864109875871 |-0.48636303857937374|-0.722414979017218 |1.4091286376170993  |1.327985247642905  |\n",
            "|000qpdoc97IMTBvF8gwcpy|Tief                                    |minimal-techno|19.0      |331240.0   |0.519       |0.431 |-13.606 |0.0291     |9.64E-4     |0.72                 |0.0916  |0.234  |129.971|-0.7034409964271413 |1.2928678694312934 |-0.24863370239934887|-0.8012849644637413|-0.008092855383087811 |-0.49671748760276535|-0.9577298974275422 |1.854851772782399   |-0.6682479600504581|-0.894588678078253  |0.26898113143788904|\n",
            "|0017XiMkqbTfF2AUOzlhj6|Thanksgiving Chicken                    |comedy        |24.0      |127040.0   |0.536       |0.78  |-9.449  |0.945      |0.792       |0.0                  |0.735   |0.452  |173.912|-0.45236558317333847|-1.188691718953871 |-0.15212409476802755|0.5641911560723898 |-0.0059532244868485285|8.354471013417442   |1.3937932946248566  |-0.48636303857937374|3.161538853489464  |-0.06448888498472108|1.7346094738052784 |\n",
            "|001APMDOl3qtx1526T11n1|Better                                  |chill         |36.0      |176320.0   |0.613       |0.471 |-6.644  |0.107      |0.316       |1.37E-6              |0.117   |0.406  |143.064|0.15021540863578856 |-0.589811912315179 |0.28500765744442724 |-0.6447834033707751|-0.004509475469780646 |0.2561022353249277  |-0.02121820853927491|-0.4863585837678577 |-0.5170565005168646|-0.23964755692188833|0.7056910808385903 |\n",
            "|001YQlnDSduXd5LgBd66gT|El Tiempo Es Dinero - Remasterizado 2007|punk-rock     |38.0      |177266.0   |0.554       |0.921 |-4.589  |0.0758     |0.0194      |0.0016524999999999999|0.329   |0.7    |183.571|0.2506455739373097  |-0.5783155588841685|-0.04993745139368732|1.1158591589250961 |-0.003451755601661394 |-0.0454122108283973 |-0.9029249560991096 |-0.48098962541857465|0.7448564688186399 |0.879844824589572   |2.0567802063540737 |\n",
            "+----------------------+----------------------------------------+--------------+----------+-----------+------------+------+--------+-----------+------------+---------------------+--------+-------+-------+--------------------+-------------------+--------------------+-------------------+----------------------+--------------------+--------------------+--------------------+-------------------+--------------------+-------------------+\n",
            "only showing top 5 rows\n",
            "\n"
          ]
        }
      ]
    },
    {
      "cell_type": "markdown",
      "source": [
        "## 7) Save silver dataset to Drive (Parquet)"
      ],
      "metadata": {
        "id": "Zzc1dvBQQ5pW"
      }
    },
    {
      "cell_type": "code",
      "source": [
        "# Write cleaned & normalized dataset\n",
        "df6.write.mode(\"overwrite\").parquet(SILVER)\n",
        "\n",
        "# Quick reload & peek to verify\n",
        "df_silver = spark.read.parquet(SILVER)\n",
        "print(\"Silver rows:\", df_silver.count())\n",
        "df_silver.printSchema()\n",
        "df_silver.show(5, truncate=False)"
      ],
      "metadata": {
        "colab": {
          "base_uri": "https://localhost:8080/"
        },
        "id": "pB0kXn-9Q6wL",
        "outputId": "d2eef3b2-e95d-43fd-adc2-5b0d761b93e7"
      },
      "execution_count": 16,
      "outputs": [
        {
          "output_type": "stream",
          "name": "stdout",
          "text": [
            "Silver rows: 89720\n",
            "root\n",
            " |-- track_genre: string (nullable = true)\n",
            " |-- track_id: string (nullable = true)\n",
            " |-- artists: string (nullable = true)\n",
            " |-- album_name: string (nullable = true)\n",
            " |-- track_name: string (nullable = true)\n",
            " |-- popularity: double (nullable = true)\n",
            " |-- duration_ms: double (nullable = true)\n",
            " |-- explicit: boolean (nullable = true)\n",
            " |-- danceability: double (nullable = true)\n",
            " |-- energy: double (nullable = true)\n",
            " |-- key: double (nullable = true)\n",
            " |-- loudness: double (nullable = true)\n",
            " |-- mode: double (nullable = true)\n",
            " |-- speechiness: double (nullable = true)\n",
            " |-- acousticness: double (nullable = true)\n",
            " |-- instrumentalness: double (nullable = true)\n",
            " |-- liveness: double (nullable = true)\n",
            " |-- valence: double (nullable = true)\n",
            " |-- tempo: double (nullable = true)\n",
            " |-- time_signature: double (nullable = true)\n",
            " |-- popularity_z: double (nullable = true)\n",
            " |-- duration_ms_z: double (nullable = true)\n",
            " |-- danceability_z: double (nullable = true)\n",
            " |-- energy_z: double (nullable = true)\n",
            " |-- loudness_z: double (nullable = true)\n",
            " |-- speechiness_z: double (nullable = true)\n",
            " |-- acousticness_z: double (nullable = true)\n",
            " |-- instrumentalness_z: double (nullable = true)\n",
            " |-- liveness_z: double (nullable = true)\n",
            " |-- valence_z: double (nullable = true)\n",
            " |-- tempo_z: double (nullable = true)\n",
            "\n",
            "+--------------+----------------------+------------------------+---------------------------+--------------------------------------------------+----------+-----------+--------+------------+------+---+--------+----+-------------------+------------+---------------------+-------------------+-------+-------+--------------+-------------------+-------------------+--------------------+--------------------+----------------------+--------------------+-------------------+--------------------+--------------------+--------------------+--------------------+\n",
            "|track_genre   |track_id              |artists                 |album_name                 |track_name                                        |popularity|duration_ms|explicit|danceability|energy|key|loudness|mode|speechiness        |acousticness|instrumentalness     |liveness           |valence|tempo  |time_signature|popularity_z       |duration_ms_z      |danceability_z      |energy_z            |loudness_z            |speechiness_z       |acousticness_z     |instrumentalness_z  |liveness_z          |valence_z           |tempo_z             |\n",
            "+--------------+----------------------+------------------------+---------------------------+--------------------------------------------------+----------+-----------+--------+------------+------+---+--------+----+-------------------+------------+---------------------+-------------------+-------+-------+--------------+-------------------+-------------------+--------------------+--------------------+----------------------+--------------------+-------------------+--------------------+--------------------+--------------------+--------------------+\n",
            "|german        |0000vdREvCVMxbQTkS888c|Rill                    |Lolly                      |Lolly                                             |44.0      |160725.0   |true    |0.91        |0.374 |8.0|-9.844  |0.0 |0.199              |0.0757      |0.00301              |0.154              |0.432  |104.042|4.0           |0.5519360698418732 |-0.7793316076181499|1.9710872731210398  |-1.0242996890212182 |-0.006156533171961474 |1.1451832944949891  |-0.7355612005778059|-0.4765754599929863 |-0.29681697284981906|-0.14064482930522867|-0.5958666710528153 |\n",
            "|club          |000CC8EParg64OmTxVnZ0p|Glee Cast               |Glee Love Songs            |It's All Coming Back To Me Now (Glee Cast Version)|47.0      |322933.0   |false   |0.269       |0.516 |0.0|-7.361  |1.0 |0.0366             |0.406       |0.0                  |0.117              |0.341  |178.174|4.0           |0.702581317794155  |1.1919162754023238 |-1.667892638154073  |-0.46871914714118784|-0.004878519336175537 |-0.424238053431293  |0.24632598323545588|-0.48636303857937374|-0.5170565005168646 |-0.4871543759635378 |1.8767661838293974  |\n",
            "|minimal-techno|000Iz0K615UepwSJ5z2RE5|Paul Kalkbrenner;Pig&Dan|X                          |Böxig Leise - Pig & Dan Remix                     |22.0      |515360.0   |false   |0.686       |0.56  |5.0|-13.264 |0.0 |0.0462             |0.00114     |0.4699999999999999   |0.111              |0.108  |119.997|4.0           |-0.5527957484748596|3.530403380760757  |0.699431266684807   |-0.29656742993892476|-0.007916826091167235 |-0.33146437769180837|-0.9572066998969607|1.0419299632817833  |-0.5527710185169261 |-1.3743711272974506 |-0.06369625612207422|\n",
            "|happy         |002qpSULhHAw6DGqFxbaO1|Tokyo Ghetto Pussy      |Disco 2001                 |Love Generation                                   |17.0      |410666.0   |false   |0.531       |0.95  |9.0|-9.744  |0.0 |0.0433             |0.00122     |0.826                |0.0613             |0.553  |159.974|4.0           |-0.8038711617286626|2.258099759083987  |-0.18050927348312204|1.2293227907174962  |-0.0061050626187683235|-0.3594897589047777 |-0.9569688828376053|2.19953062001066    |-0.8486062759507684 |0.3200986338338421  |1.2697150054063642  |\n",
            "|idm           |003lo4y8gOylAqDs2scLx2|Dither                  |Dominator - We Will Prevail|Addiction                                         |21.0      |177166.0   |true    |0.553       |0.978 |8.0|-0.647  |1.0 |0.12100000000000001|0.081       |0.0030000000000001137|0.31379999999999997|0.306  |180.055|4.0           |-0.6030108311256202|-0.5795308182320554|-0.05561448713670622|1.3388738834825729  |-0.001422786394787385 |0.3913971791116763  |-0.7198058203955162|-0.476607976865366  |0.6543796898851506  |-0.620427278524426  |1.9395059237532286  |\n",
            "+--------------+----------------------+------------------------+---------------------------+--------------------------------------------------+----------+-----------+--------+------------+------+---+--------+----+-------------------+------------+---------------------+-------------------+-------+-------+--------------+-------------------+-------------------+--------------------+--------------------+----------------------+--------------------+-------------------+--------------------+--------------------+--------------------+--------------------+\n",
            "only showing top 5 rows\n",
            "\n"
          ]
        }
      ]
    }
  ]
}