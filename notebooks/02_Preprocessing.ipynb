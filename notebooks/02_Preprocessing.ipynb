{
  "nbformat": 4,
  "nbformat_minor": 0,
  "metadata": {
    "colab": {
      "provenance": []
    },
    "kernelspec": {
      "name": "python3",
      "display_name": "Python 3"
    },
    "language_info": {
      "name": "python"
    }
  },
  "cells": [
    {
      "cell_type": "markdown",
      "source": [
        "## 1) Setup Spark + Drive"
      ],
      "metadata": {
        "id": "QsTUZHIqOFcT"
      }
    },
    {
      "cell_type": "code",
      "execution_count": 1,
      "metadata": {
        "colab": {
          "base_uri": "https://localhost:8080/"
        },
        "id": "ZIvGDBIXN-0X",
        "outputId": "355dbb26-3043-423f-c76e-e21885eaa20f"
      },
      "outputs": [
        {
          "output_type": "stream",
          "name": "stdout",
          "text": [
            "Mounted at /content/drive\n",
            "Rows: 114000\n",
            "root\n",
            " |-- Unnamed: 0: integer (nullable = true)\n",
            " |-- track_id: string (nullable = true)\n",
            " |-- artists: string (nullable = true)\n",
            " |-- album_name: string (nullable = true)\n",
            " |-- track_name: string (nullable = true)\n",
            " |-- popularity: string (nullable = true)\n",
            " |-- duration_ms: string (nullable = true)\n",
            " |-- explicit: string (nullable = true)\n",
            " |-- danceability: string (nullable = true)\n",
            " |-- energy: string (nullable = true)\n",
            " |-- key: string (nullable = true)\n",
            " |-- loudness: string (nullable = true)\n",
            " |-- mode: string (nullable = true)\n",
            " |-- speechiness: string (nullable = true)\n",
            " |-- acousticness: string (nullable = true)\n",
            " |-- instrumentalness: double (nullable = true)\n",
            " |-- liveness: string (nullable = true)\n",
            " |-- valence: string (nullable = true)\n",
            " |-- tempo: double (nullable = true)\n",
            " |-- time_signature: double (nullable = true)\n",
            " |-- track_genre: string (nullable = true)\n",
            "\n",
            "+----------+----------------------+----------------------+------------------------------------------------------+--------------------------+----------+-----------+--------+------------+------+---+--------+----+-----------+------------+----------------+--------+-------+-------+--------------+-----------+\n",
            "|Unnamed: 0|track_id              |artists               |album_name                                            |track_name                |popularity|duration_ms|explicit|danceability|energy|key|loudness|mode|speechiness|acousticness|instrumentalness|liveness|valence|tempo  |time_signature|track_genre|\n",
            "+----------+----------------------+----------------------+------------------------------------------------------+--------------------------+----------+-----------+--------+------------+------+---+--------+----+-----------+------------+----------------+--------+-------+-------+--------------+-----------+\n",
            "|0         |5SuOikwiRyPMVoIQDJUgSV|Gen Hoshino           |Comedy                                                |Comedy                    |73        |230666     |False   |0.676       |0.461 |1  |-6.746  |0   |0.143      |0.0322      |1.01E-6         |0.358   |0.715  |87.917 |4.0           |acoustic   |\n",
            "|1         |4qPNDBW1i3p13qLCt0Ki3A|Ben Woodward          |Ghost (Acoustic)                                      |Ghost - Acoustic          |55        |149610     |False   |0.42        |0.166 |1  |-17.235 |1   |0.0763     |0.924       |5.56E-6         |0.101   |0.267  |77.489 |4.0           |acoustic   |\n",
            "|2         |1iJBSr7s7jYXzM8EGcbK5b|Ingrid Michaelson;ZAYN|To Begin Again                                        |To Begin Again            |57        |210826     |False   |0.438       |0.359 |0  |-9.734  |1   |0.0557     |0.21        |0.0             |0.117   |0.12   |76.332 |4.0           |acoustic   |\n",
            "|3         |6lfxq3CG4xtTiEg7opyCyx|Kina Grannis          |Crazy Rich Asians (Original Motion Picture Soundtrack)|Can't Help Falling In Love|71        |201933     |False   |0.266       |0.0596|0  |-18.515 |1   |0.0363     |0.905       |7.07E-5         |0.132   |0.143  |181.74 |3.0           |acoustic   |\n",
            "|4         |5vjLSffimiIP26QG5WcN2K|Chord Overstreet      |Hold On                                               |Hold On                   |82        |198853     |False   |0.618       |0.443 |2  |-9.681  |1   |0.0526     |0.469       |0.0             |0.0829  |0.167  |119.949|4.0           |acoustic   |\n",
            "+----------+----------------------+----------------------+------------------------------------------------------+--------------------------+----------+-----------+--------+------------+------+---+--------+----+-----------+------------+----------------+--------+-------+-------+--------------+-----------+\n",
            "only showing top 5 rows\n",
            "\n"
          ]
        }
      ],
      "source": [
        "!pip -q install pyspark\n",
        "\n",
        "from google.colab import drive\n",
        "drive.mount('/content/drive')\n",
        "\n",
        "from pyspark.sql import SparkSession, functions as F, types as T\n",
        "\n",
        "spark = SparkSession.builder.appName(\"SpotifyPreprocessing\").getOrCreate()\n",
        "\n",
        "BRONZE = \"file:///content/drive/MyDrive/data/spotify/bronze_parquet\"  # from 01_Data_Ingestion.ipynb\n",
        "SILVER = \"file:///content/drive/MyDrive/data/spotify/silver_parquet\"  # output of this notebook\n",
        "\n",
        "df = spark.read.parquet(BRONZE)\n",
        "print(\"Rows:\", df.count())\n",
        "df.printSchema()\n",
        "df.show(5, truncate=False)"
      ]
    },
    {
      "cell_type": "markdown",
      "source": [
        "## 2) Column plan"
      ],
      "metadata": {
        "id": "UGWEyM_ZQJ_W"
      }
    },
    {
      "cell_type": "code",
      "source": [
        "# 1) Define column groups\n",
        "id_cols = [\"track_id\"]\n",
        "cat_cols = [\"artists\", \"album_name\", \"track_name\", \"track_genre\", \"key\"]  # 'key' is musical key 0-11; keep as string or cast to int below\n",
        "bool_cols = [\"explicit\"]\n",
        "num_cols_as_string = [\n",
        "    \"popularity\",\"duration_ms\",\"danceability\",\"energy\",\"loudness\",\"mode\",\n",
        "    \"speechiness\",\"acousticness\",\"instrumentalness\",\"liveness\",\"valence\",\n",
        "    \"tempo\",\"time_signature\"\n",
        "]\n",
        "# present but not needed\n",
        "drop_cols = [\"Unnamed: 0\"]  # index column from the source\n",
        "\n",
        "# 2) Drop junk, trim strings, normalize empties to null\n",
        "df1 = df.drop(*[c for c in drop_cols if c in df.columns])\n",
        "\n",
        "def trim_all_strings(df_in):\n",
        "    return df_in.select([\n",
        "        F.trim(F.col(c)).alias(c) if t == T.StringType() else F.col(c)\n",
        "        for c, t in df_in.dtypes\n",
        "    ])\n",
        "\n",
        "# Convert empty strings to nulls for all string columns\n",
        "def empty_to_null(df_in):\n",
        "    string_cols = [f.name for f in df_in.schema.fields if isinstance(f.dataType, T.StringType)]\n",
        "    exprs = [F.when(F.length(F.col(c)) == 0, None).otherwise(F.col(c)).alias(c) if c in string_cols else F.col(c)\n",
        "             for c in df_in.columns]\n",
        "    return df_in.select(*exprs)\n",
        "\n",
        "df1 = trim_all_strings(df1)\n",
        "df1 = empty_to_null(df1)\n",
        "\n",
        "# 3) Safe cast helpers (coerce bad values to null)\n",
        "def safe_cast(col, new_type):\n",
        "    return F.when(F.col(col).cast(new_type).isNotNull(), F.col(col).cast(new_type)).otherwise(None)\n",
        "\n",
        "# 4) Booleans and numerics\n",
        "df2 = df1\n",
        "\n",
        "# explicit: string -> boolean (True/False)\n",
        "if \"explicit\" in df2.columns:\n",
        "    df2 = df2.withColumn(\"explicit\",\n",
        "                         F.when(F.lower(F.col(\"explicit\")).isin(\"true\",\"1\",\"t\",\"yes\"), F.lit(True))\n",
        "                          .when(F.lower(F.col(\"explicit\")).isin(\"false\",\"0\",\"f\",\"no\"), F.lit(False))\n",
        "                          .otherwise(None).cast(T.BooleanType()))\n",
        "\n",
        "# Cast numeric-looking columns\n",
        "for c in num_cols_as_string:\n",
        "    if c in df2.columns:\n",
        "        # pick integer types when appropriate\n",
        "        if c in [\"popularity\", \"duration_ms\", \"mode\", \"time_signature\"]:\n",
        "            df2 = df2.withColumn(c, safe_cast(c, T.IntegerType()))\n",
        "        elif c in [\"tempo\", \"loudness\", \"danceability\",\"energy\",\"speechiness\",\"acousticness\",\"instrumentalness\",\"liveness\",\"valence\"]:\n",
        "            df2 = df2.withColumn(c, safe_cast(c, T.DoubleType()))\n",
        "        else:\n",
        "            df2 = df2.withColumn(c, safe_cast(c, T.DoubleType()))\n",
        "\n",
        "# 'key' & 'mode' are often integers; cast 'key' to int if present as string\n",
        "if \"key\" in df2.columns and dict(df2.dtypes)[\"key\"] == \"string\":\n",
        "    df2 = df2.withColumn(\"key\", safe_cast(\"key\", T.IntegerType()))\n",
        "\n",
        "df2.printSchema()\n",
        "df2.show(5, truncate=False)"
      ],
      "metadata": {
        "colab": {
          "base_uri": "https://localhost:8080/"
        },
        "id": "2zv5Zi6IQMTA",
        "outputId": "e9968f80-18d1-4964-9539-d4d0a917cc3d"
      },
      "execution_count": 2,
      "outputs": [
        {
          "output_type": "stream",
          "name": "stdout",
          "text": [
            "root\n",
            " |-- track_id: string (nullable = true)\n",
            " |-- artists: string (nullable = true)\n",
            " |-- album_name: string (nullable = true)\n",
            " |-- track_name: string (nullable = true)\n",
            " |-- popularity: integer (nullable = true)\n",
            " |-- duration_ms: integer (nullable = true)\n",
            " |-- explicit: boolean (nullable = true)\n",
            " |-- danceability: double (nullable = true)\n",
            " |-- energy: double (nullable = true)\n",
            " |-- key: integer (nullable = true)\n",
            " |-- loudness: double (nullable = true)\n",
            " |-- mode: integer (nullable = true)\n",
            " |-- speechiness: double (nullable = true)\n",
            " |-- acousticness: double (nullable = true)\n",
            " |-- instrumentalness: double (nullable = true)\n",
            " |-- liveness: double (nullable = true)\n",
            " |-- valence: double (nullable = true)\n",
            " |-- tempo: double (nullable = true)\n",
            " |-- time_signature: integer (nullable = true)\n",
            " |-- track_genre: string (nullable = true)\n",
            "\n",
            "+----------------------+----------------------+------------------------------------------------------+--------------------------+----------+-----------+--------+------------+------+---+--------+----+-----------+------------+----------------+--------+-------+-------+--------------+-----------+\n",
            "|track_id              |artists               |album_name                                            |track_name                |popularity|duration_ms|explicit|danceability|energy|key|loudness|mode|speechiness|acousticness|instrumentalness|liveness|valence|tempo  |time_signature|track_genre|\n",
            "+----------------------+----------------------+------------------------------------------------------+--------------------------+----------+-----------+--------+------------+------+---+--------+----+-----------+------------+----------------+--------+-------+-------+--------------+-----------+\n",
            "|5SuOikwiRyPMVoIQDJUgSV|Gen Hoshino           |Comedy                                                |Comedy                    |73        |230666     |false   |0.676       |0.461 |1  |-6.746  |0   |0.143      |0.0322      |1.01E-6         |0.358   |0.715  |87.917 |4             |acoustic   |\n",
            "|4qPNDBW1i3p13qLCt0Ki3A|Ben Woodward          |Ghost (Acoustic)                                      |Ghost - Acoustic          |55        |149610     |false   |0.42        |0.166 |1  |-17.235 |1   |0.0763     |0.924       |5.56E-6         |0.101   |0.267  |77.489 |4             |acoustic   |\n",
            "|1iJBSr7s7jYXzM8EGcbK5b|Ingrid Michaelson;ZAYN|To Begin Again                                        |To Begin Again            |57        |210826     |false   |0.438       |0.359 |0  |-9.734  |1   |0.0557     |0.21        |0.0             |0.117   |0.12   |76.332 |4             |acoustic   |\n",
            "|6lfxq3CG4xtTiEg7opyCyx|Kina Grannis          |Crazy Rich Asians (Original Motion Picture Soundtrack)|Can't Help Falling In Love|71        |201933     |false   |0.266       |0.0596|0  |-18.515 |1   |0.0363     |0.905       |7.07E-5         |0.132   |0.143  |181.74 |3             |acoustic   |\n",
            "|5vjLSffimiIP26QG5WcN2K|Chord Overstreet      |Hold On                                               |Hold On                   |82        |198853     |false   |0.618       |0.443 |2  |-9.681  |1   |0.0526     |0.469       |0.0             |0.0829  |0.167  |119.949|4             |acoustic   |\n",
            "+----------------------+----------------------+------------------------------------------------------+--------------------------+----------+-----------+--------+------------+------+---+--------+----+-----------+------------+----------------+--------+-------+-------+--------------+-----------+\n",
            "only showing top 5 rows\n",
            "\n"
          ]
        }
      ]
    },
    {
      "cell_type": "markdown",
      "source": [
        "## 3)  De-duplication & basic filters"
      ],
      "metadata": {
        "id": "nOSgxJmWQSl3"
      }
    },
    {
      "cell_type": "code",
      "source": [
        "# Drop exact duplicates\n",
        "before = df2.count()\n",
        "df3 = df2.dropDuplicates(id_cols + [\"album_name\", \"track_name\"]) if \"track_id\" in df2.columns else df2.dropDuplicates()\n",
        "print(\"Dropped duplicates:\", before - df3.count())\n",
        "\n",
        "# Optional: remove rows missing essential identifiers or genre\n",
        "essential = [\"track_id\", \"track_name\", \"track_genre\"]\n",
        "for c in essential:\n",
        "    if c not in df3.columns:\n",
        "        print(f\"Warning: missing expected column {c}\")\n",
        "df3 = df3.where(F.col(\"track_id\").isNotNull() & F.col(\"track_name\").isNotNull() & F.col(\"track_genre\").isNotNull())\n",
        "\n",
        "# Optional sanity filters on obvious bad values\n",
        "df3 = df3.where((F.col(\"duration_ms\").isNull()) | (F.col(\"duration_ms\") > 0))"
      ],
      "metadata": {
        "colab": {
          "base_uri": "https://localhost:8080/"
        },
        "id": "UP0l2q8LQWAG",
        "outputId": "45ad5e6b-d9dc-4b72-ef8e-1de05af48e3e"
      },
      "execution_count": 3,
      "outputs": [
        {
          "output_type": "stream",
          "name": "stdout",
          "text": [
            "Dropped duplicates: 24259\n"
          ]
        }
      ]
    },
    {
      "cell_type": "markdown",
      "source": [
        "## 4) Missing values — median imputation per genre"
      ],
      "metadata": {
        "id": "LcW4oQ3-QaZ3"
      }
    },
    {
      "cell_type": "code",
      "source": [
        "from functools import reduce\n",
        "\n",
        "target_num_cols = [\n",
        "    \"popularity\",\"duration_ms\",\"danceability\",\"energy\",\"loudness\",\"mode\",\n",
        "    \"speechiness\",\"acousticness\",\"instrumentalness\",\"liveness\",\"valence\",\n",
        "    \"tempo\",\"time_signature\",\"key\"\n",
        "]\n",
        "target_num_cols = [c for c in target_num_cols if c in df3.columns]\n",
        "\n",
        "# compute per-genre medians\n",
        "per_genre_exprs = []\n",
        "for c in target_num_cols:\n",
        "    per_genre_exprs.append(F.expr(f\"percentile_approx({c}, 0.5) as med_{c}\"))\n",
        "\n",
        "per_genre = df3.groupBy(\"track_genre\").agg(*per_genre_exprs)\n",
        "\n",
        "# compute global medians (fallbacks)\n",
        "global_meds = df3.agg(*[F.expr(f\"percentile_approx({c}, 0.5) as med_{c}\") for c in target_num_cols]).collect()[0].asDict()\n",
        "\n",
        "# join medians to rows\n",
        "df4 = df3.join(per_genre, on=\"track_genre\", how=\"left\")\n",
        "\n",
        "# fill null numeric values with per-genre median then with global median\n",
        "for c in target_num_cols:\n",
        "    med_col = f\"med_{c}\"\n",
        "    if med_col in df4.columns:\n",
        "        df4 = df4.withColumn(\n",
        "            c,\n",
        "            F.when(F.col(c).isNull(), F.col(med_col)).otherwise(F.col(c))\n",
        "        )\n",
        "        # global fallback\n",
        "        df4 = df4.fillna({c: float(global_meds[med_col]) if global_meds[med_col] is not None else None})\n",
        "\n",
        "# drop helper median columns\n",
        "df4 = df4.drop(*[f\"med_{c}\" for c in target_num_cols if f\"med_{c}\" in df4.columns])"
      ],
      "metadata": {
        "id": "sHCJMcl3QdWJ"
      },
      "execution_count": 4,
      "outputs": []
    },
    {
      "cell_type": "markdown",
      "source": [
        "## 5) Outliers — IQR capping per genre"
      ],
      "metadata": {
        "id": "b6ZwtyGOQkqp"
      }
    },
    {
      "cell_type": "code",
      "source": [
        "# compute per-genre Q1, Q3\n",
        "iqr_stats = df4.groupBy(\"track_genre\").agg(\n",
        "    *[\n",
        "        F.expr(f\"percentile_approx({c}, 0.25) as q1_{c}\") if c in target_num_cols else F.lit(None).alias(f\"q1_{c}\")\n",
        "        for c in target_num_cols\n",
        "    ],\n",
        "    *[\n",
        "        F.expr(f\"percentile_approx({c}, 0.75) as q3_{c}\") if c in target_num_cols else F.lit(None).alias(f\"q3_{c}\")\n",
        "        for c in target_num_cols\n",
        "    ]\n",
        ")\n",
        "\n",
        "df5 = df4.join(iqr_stats, on=\"track_genre\", how=\"left\")\n",
        "\n",
        "for c in target_num_cols:\n",
        "    q1c, q3c = f\"q1_{c}\", f\"q3_{c}\"\n",
        "    if q1c in df5.columns and q3c in df5.columns:\n",
        "        df5 = df5.withColumn(f\"iqr_{c}\", F.col(q3c) - F.col(q1c))\n",
        "        low = F.col(q1c) - 1.5 * F.col(f\"iqr_{c}\")\n",
        "        high = F.col(q3c) + 1.5 * F.col(f\"iqr_{c}\")\n",
        "        df5 = df5.withColumn(c, F.when(F.col(c) < low, low)\n",
        "                                   .when(F.col(c) > high, high)\n",
        "                                   .otherwise(F.col(c)))\n",
        "\n",
        "# drop helper columns\n",
        "drop_helpers = []\n",
        "for c in target_num_cols:\n",
        "    drop_helpers += [f\"q1_{c}\", f\"q3_{c}\", f\"iqr_{c}\"]\n",
        "df5 = df5.drop(*[h for h in drop_helpers if h in df5.columns])"
      ],
      "metadata": {
        "id": "BCOyDzpAQn2z"
      },
      "execution_count": 5,
      "outputs": []
    },
    {
      "cell_type": "markdown",
      "source": [
        "## 6) Normalization — Z-score for numerics"
      ],
      "metadata": {
        "id": "hmDulC1VQtGv"
      }
    },
    {
      "cell_type": "code",
      "source": [
        "cont_cols = [c for c in target_num_cols if c in df5.columns and c not in [\"mode\",\"time_signature\",\"key\"]]  # treat these as categorical/integer\n",
        "\n",
        "# compute global means/stds (you can also do per-genre if needed)\n",
        "stats = df5.agg(\n",
        "    *[F.mean(c).alias(f\"mean_{c}\") for c in cont_cols],\n",
        "    *[F.stddev_pop(c).alias(f\"std_{c}\") for c in cont_cols]\n",
        ").collect()[0].asDict()\n",
        "\n",
        "df6 = df5\n",
        "for c in cont_cols:\n",
        "    mean_c = stats.get(f\"mean_{c}\", None)\n",
        "    std_c  = stats.get(f\"std_{c}\", None)\n",
        "    if mean_c is not None and std_c is not None and std_c != 0:\n",
        "        df6 = df6.withColumn(f\"{c}_z\", (F.col(c) - F.lit(float(mean_c))) / F.lit(float(std_c)))\n",
        "\n",
        "df6.select(*(id_cols + [\"track_name\",\"track_genre\"] + cont_cols + [f\"{c}_z\" for c in cont_cols])).show(5, truncate=False)"
      ],
      "metadata": {
        "colab": {
          "base_uri": "https://localhost:8080/"
        },
        "id": "sfixa8UcQwBd",
        "outputId": "c255167d-eed5-44c4-fff8-6d5e8ec29799"
      },
      "execution_count": 6,
      "outputs": [
        {
          "output_type": "stream",
          "name": "stdout",
          "text": [
            "+----------------------+----------------------------------------+--------------+----------+-----------+------------+------+--------+-----------+------------+----------------+--------+-------+-------+-------------------+--------------------+---------------------+----------------------+----------------------+----------------------+---------------------+----------------------+----------------------+--------------------+-------------------+\n",
            "|track_id              |track_name                              |track_genre   |popularity|duration_ms|danceability|energy|loudness|speechiness|acousticness|instrumentalness|liveness|valence|tempo  |popularity_z       |duration_ms_z       |danceability_z       |energy_z              |loudness_z            |speechiness_z         |acousticness_z       |instrumentalness_z    |liveness_z            |valence_z           |tempo_z            |\n",
            "+----------------------+----------------------------------------+--------------+----------+-----------+------------+------+--------+-----------+------------+----------------+--------+-------+-------+-------------------+--------------------+---------------------+----------------------+----------------------+----------------------+---------------------+----------------------+----------------------+--------------------+-------------------+\n",
            "|000RDCYioLteXcutOjeweY|Teeje Week                              |hip-hop       |62.0      |190203.0   |0.679       |0.77  |-3.537  |0.19       |0.0583      |0.0             |0.0825  |0.839  |161.721|1.4559824657558238 |-0.42121189289728705|-0.012455679524020283|-0.004489299733569008 |-0.0029105276881788342|-0.003028724692711307 |-0.7440125645511425  |-0.0036143407336536463|-0.004736618192241585 |1.3766113603726455  |1.3280746109075339 |\n",
            "|000qpdoc97IMTBvF8gwcpy|Tief                                    |minimal-techno|19.0      |331240.0   |0.519       |0.431 |-13.606 |0.0291     |9.64E-4     |0.72            |0.0916  |0.234  |129.971|-0.7030644199770142|1.2930361155701586  |-0.012506698059815096|-0.004953906867778597 |-0.008093097701130649 |-0.0034600666089497126|-0.905200952196958   |-0.002289616536604648 |-0.0047234865681513825|-0.8728652601349404 |0.26899849861328584|\n",
            "|0017XiMkqbTfF2AUOzlhj6|Thanksgiving Chicken                    |comedy        |24.0      |127040.0   |0.536       |0.78  |-9.449  |0.945      |0.792       |0.0             |0.735   |0.452  |173.912|-0.4520124565197074|-1.1889327530887919 |-0.012501277340386897|-0.004475594508371085 |-0.005953466799964625 |-0.0010047150795354464|1.318634289358004    |-0.0036143407336536463|-0.0037950374539056425|-0.06231004811733082|1.734726481300579  |\n",
            "|001APMDOl3qtx1526T11n1|Better                                  |chill         |36.0      |176320.0   |0.613       |0.471 |-6.644  |0.107      |0.316       |1.37E-6         |0.117   |0.406  |143.064|0.15051225577782879|-0.5899541740118425 |-0.012476724670035643|-0.0048990859669869056|-0.0045097177795723475|-0.0032512317097889184|-0.019541944062677123|-0.0036143382129978827|-0.004686833463547961 |-0.23334463413939516|0.7057381376138709 |\n",
            "|001YQlnDSduXd5LgBd66gT|El Tiempo Es Dinero - Remasterizado 2007|punk-rock     |38.0      |177266.0   |0.554       |0.921 |-4.589  |0.0758     |0.0194      |0.001625        |0.329   |0.7    |183.571|0.2509330411607515 |-0.5784559245027759 |-0.01249553775510998 |-0.004282350833080371 |-0.0034519979090175774|-0.0033348729017506225|-0.853371924803379   |-0.0036113509047366954|-0.004380909913314673 |0.8597894591320596  |2.056919116533654  |\n",
            "+----------------------+----------------------------------------+--------------+----------+-----------+------------+------+--------+-----------+------------+----------------+--------+-------+-------+-------------------+--------------------+---------------------+----------------------+----------------------+----------------------+---------------------+----------------------+----------------------+--------------------+-------------------+\n",
            "only showing top 5 rows\n",
            "\n"
          ]
        }
      ]
    },
    {
      "cell_type": "markdown",
      "source": [
        "## 7) Save silver dataset to Drive (Parquet)"
      ],
      "metadata": {
        "id": "Zzc1dvBQQ5pW"
      }
    },
    {
      "cell_type": "code",
      "source": [
        "# Write cleaned & normalized dataset\n",
        "df6.write.mode(\"overwrite\").parquet(SILVER)\n",
        "\n",
        "# Quick reload & peek to verify\n",
        "df_silver = spark.read.parquet(SILVER)\n",
        "print(\"Silver rows:\", df_silver.count())\n",
        "df_silver.printSchema()\n",
        "df_silver.show(5, truncate=False)"
      ],
      "metadata": {
        "colab": {
          "base_uri": "https://localhost:8080/"
        },
        "id": "pB0kXn-9Q6wL",
        "outputId": "f1a5b77b-d1ba-4729-8780-1eb2e4c67bd4"
      },
      "execution_count": 8,
      "outputs": [
        {
          "output_type": "stream",
          "name": "stdout",
          "text": [
            "Silver rows: 89720\n",
            "root\n",
            " |-- track_genre: string (nullable = true)\n",
            " |-- track_id: string (nullable = true)\n",
            " |-- artists: string (nullable = true)\n",
            " |-- album_name: string (nullable = true)\n",
            " |-- track_name: string (nullable = true)\n",
            " |-- popularity: double (nullable = true)\n",
            " |-- duration_ms: double (nullable = true)\n",
            " |-- explicit: boolean (nullable = true)\n",
            " |-- danceability: double (nullable = true)\n",
            " |-- energy: double (nullable = true)\n",
            " |-- key: double (nullable = true)\n",
            " |-- loudness: double (nullable = true)\n",
            " |-- mode: double (nullable = true)\n",
            " |-- speechiness: double (nullable = true)\n",
            " |-- acousticness: double (nullable = true)\n",
            " |-- instrumentalness: double (nullable = true)\n",
            " |-- liveness: double (nullable = true)\n",
            " |-- valence: double (nullable = true)\n",
            " |-- tempo: double (nullable = true)\n",
            " |-- time_signature: double (nullable = true)\n",
            " |-- popularity_z: double (nullable = true)\n",
            " |-- duration_ms_z: double (nullable = true)\n",
            " |-- danceability_z: double (nullable = true)\n",
            " |-- energy_z: double (nullable = true)\n",
            " |-- loudness_z: double (nullable = true)\n",
            " |-- speechiness_z: double (nullable = true)\n",
            " |-- acousticness_z: double (nullable = true)\n",
            " |-- instrumentalness_z: double (nullable = true)\n",
            " |-- liveness_z: double (nullable = true)\n",
            " |-- valence_z: double (nullable = true)\n",
            " |-- tempo_z: double (nullable = true)\n",
            "\n",
            "+--------------+----------------------+------------------------+---------------------------+--------------------------------------------------+----------+-----------+--------+------------+------+---+--------+----+-------------------+------------+---------------------+-------------------+-------+-------+--------------+-------------------+-------------------+---------------------+---------------------+----------------------+----------------------+-------------------+----------------------+---------------------+--------------------+--------------------+\n",
            "|track_genre   |track_id              |artists                 |album_name                 |track_name                                        |popularity|duration_ms|explicit|danceability|energy|key|loudness|mode|speechiness        |acousticness|instrumentalness     |liveness           |valence|tempo  |time_signature|popularity_z       |duration_ms_z      |danceability_z       |energy_z             |loudness_z            |speechiness_z         |acousticness_z     |instrumentalness_z    |liveness_z           |valence_z           |tempo_z             |\n",
            "+--------------+----------------------+------------------------+---------------------------+--------------------------------------------------+----------+-----------+--------+------------+------+---+--------+----+-------------------+------------+---------------------+-------------------+-------+-------+--------------+-------------------+-------------------+---------------------+---------------------+----------------------+----------------------+-------------------+----------------------+---------------------+--------------------+--------------------+\n",
            "|german        |0000vdREvCVMxbQTkS888c|Rill                    |Lolly                      |Lolly                                             |44.0      |160725.0   |true    |0.91        |0.374 |8.0|-9.844  |0.0 |0.199              |0.0757      |0.00301              |0.154              |0.432  |104.042|4.0           |0.5521953973095196 |-0.7795051265423828|-0.012382021512966523|-0.005032026651406759|-0.006156775485545712 |-0.003004597425799277 |-0.695096038371479 |-0.0036088026505520943|-0.004633441145818566|-0.13667291160518497|-0.5959081003056923 |\n",
            "|club          |000CC8EParg64OmTxVnZ0p|Glee Cast               |Glee Love Songs            |It's All Coming Back To Me Now (Glee Cast Version)|47.0      |322933.0   |false   |0.269       |0.516 |0.0|-7.361  |1.0 |0.0366             |0.406       |0.0                  |0.117              |0.341  |178.174|4.0           |0.7028265753839036 |1.192067871731031  |-0.012586414521994492|-0.004837412453596252|-0.004878761646817005 |-0.0034399605531896874|0.23347457065972066|-0.0036143407336536463|-0.004686833463547961|-0.4750239404749209 |1.8768928558076052  |\n",
            "|minimal-techno|000Iz0K615UepwSJ5z2RE5|Paul Kalkbrenner;Pig&Dan|X                          |Böxig Leise - Pig & Dan Remix                     |22.0      |515360.0   |false   |0.686       |0.56  |5.0|-13.264 |0.0 |0.0462             |0.00114     |0.4699999999999999   |0.111              |0.108  |119.997|4.0           |-0.5524332419026301|3.530940660611716  |-0.01245344746307926 |-0.004777109462725391|-0.007917068408804746 |-0.003414224801816855 |-0.9047061643459454|-0.00274959021613555  |-0.004695491677233808|-1.3413513001084212 |-0.06370150592286637|\n",
            "|happy         |002qpSULhHAw6DGqFxbaO1|Tokyo Ghetto Pussy      |Disco 2001                 |Love Generation                                   |17.0      |410666.0   |false   |0.531       |0.95  |9.0|-9.744  |0.0 |0.0433             |0.00122     |0.826                |0.0613             |0.553  |159.974|4.0           |-0.8034852053599368|2.258427199615731  |-0.012502871669630485|-0.004242605680006394|-0.006105304932234045 |-0.0034219991433773983|-0.9044812607773033|-0.002094587696483545 |-0.004767210547264914|0.3132224124963324  |1.26980040718539    |\n",
            "|idm           |003lo4y8gOylAqDs2scLx2|Dither                  |Dominator - We Will Prevail|Addiction                                         |21.0      |177166.0   |true    |0.553       |0.978 |8.0|-0.647  |1.0 |0.12100000000000001|0.081       |0.0030000000000001137|0.31379999999999997|0.306  |180.055|4.0           |-0.6026436345940914|-0.579671384281747 |-0.012495856620958699|-0.004204231049452211|-0.0014230286974716388|-0.003213700405703538 |-0.6801961769489377|-0.0036088210494992752|-0.004402844054652154|-0.6051589515786657 |1.9396368610745494  |\n",
            "+--------------+----------------------+------------------------+---------------------------+--------------------------------------------------+----------+-----------+--------+------------+------+---+--------+----+-------------------+------------+---------------------+-------------------+-------+-------+--------------+-------------------+-------------------+---------------------+---------------------+----------------------+----------------------+-------------------+----------------------+---------------------+--------------------+--------------------+\n",
            "only showing top 5 rows\n",
            "\n"
          ]
        }
      ]
    }
  ]
}
