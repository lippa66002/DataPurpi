{
  "nbformat": 4,
  "nbformat_minor": 0,
  "metadata": {
    "colab": {
      "provenance": [],
      "gpuType": "T4"
    },
    "kernelspec": {
      "name": "python3",
      "display_name": "Python 3"
    },
    "language_info": {
      "name": "python"
    },
    "accelerator": "GPU"
  },
  "cells": [
    {
      "cell_type": "markdown",
      "source": [
        "The goal of this notebook is to find how and if popularity is related to any feature of a song"
      ],
      "metadata": {
        "id": "C-ztPr1O1cPE"
      }
    },
    {
      "cell_type": "markdown",
      "source": [
        "We first load the preprocessed notebook resulting from the first notebook"
      ],
      "metadata": {
        "id": "z14AI_iN1JM9"
      }
    },
    {
      "cell_type": "code",
      "execution_count": 13,
      "metadata": {
        "colab": {
          "base_uri": "https://localhost:8080/"
        },
        "id": "cn_W09Un4_S5",
        "outputId": "c65faeae-9288-4f17-f128-f872fe504af5"
      },
      "outputs": [
        {
          "output_type": "stream",
          "name": "stdout",
          "text": [
            "Drive already mounted at /content/drive; to attempt to forcibly remount, call drive.mount(\"/content/drive\", force_remount=True).\n"
          ]
        }
      ],
      "source": [
        "!pip -q install pyspark\n",
        "\n",
        "from google.colab import drive\n",
        "drive.mount('/content/drive')\n",
        "\n",
        "from pyspark.sql import SparkSession, functions as F, types as T\n",
        "\n",
        "spark = SparkSession.builder.appName(\"FeatureImportance\").getOrCreate()\n",
        "#let's load the preprocessed DS created in notebook 2\n",
        "SILVER = \"file:///content/drive/MyDrive/data/spotify/silver_parquet\"\n",
        "\n",
        "df = spark.read.parquet(SILVER)"
      ]
    },
    {
      "cell_type": "markdown",
      "source": [
        "Here we print the genres"
      ],
      "metadata": {
        "id": "8Qivdr7r1QMB"
      }
    },
    {
      "cell_type": "code",
      "source": [
        "df.select(\"track_genre\") \\\n",
        "  .where(\"track_genre IS NOT NULL\") \\\n",
        "  .distinct() \\\n",
        "  .orderBy(\"track_genre\") \\\n",
        "  .show(999, truncate=False)  # increase 999 if needed\n"
      ],
      "metadata": {
        "colab": {
          "base_uri": "https://localhost:8080/"
        },
        "id": "-lEuZ7SsWEx1",
        "outputId": "b23daa35-7baa-4c48-d2bc-45a90db3166e"
      },
      "execution_count": 14,
      "outputs": [
        {
          "output_type": "stream",
          "name": "stdout",
          "text": [
            "+-----------------+\n",
            "|track_genre      |\n",
            "+-----------------+\n",
            "|acoustic         |\n",
            "|afrobeat         |\n",
            "|alt-rock         |\n",
            "|alternative      |\n",
            "|ambient          |\n",
            "|anime            |\n",
            "|black-metal      |\n",
            "|bluegrass        |\n",
            "|blues            |\n",
            "|brazil           |\n",
            "|breakbeat        |\n",
            "|british          |\n",
            "|cantopop         |\n",
            "|chicago-house    |\n",
            "|children         |\n",
            "|chill            |\n",
            "|classical        |\n",
            "|club             |\n",
            "|comedy           |\n",
            "|country          |\n",
            "|dance            |\n",
            "|dancehall        |\n",
            "|death-metal      |\n",
            "|deep-house       |\n",
            "|detroit-techno   |\n",
            "|disco            |\n",
            "|disney           |\n",
            "|drum-and-bass    |\n",
            "|dub              |\n",
            "|dubstep          |\n",
            "|edm              |\n",
            "|electro          |\n",
            "|electronic       |\n",
            "|emo              |\n",
            "|folk             |\n",
            "|forro            |\n",
            "|french           |\n",
            "|funk             |\n",
            "|garage           |\n",
            "|german           |\n",
            "|gospel           |\n",
            "|goth             |\n",
            "|grindcore        |\n",
            "|groove           |\n",
            "|grunge           |\n",
            "|guitar           |\n",
            "|happy            |\n",
            "|hard-rock        |\n",
            "|hardcore         |\n",
            "|hardstyle        |\n",
            "|heavy-metal      |\n",
            "|hip-hop          |\n",
            "|honky-tonk       |\n",
            "|house            |\n",
            "|idm              |\n",
            "|indian           |\n",
            "|indie            |\n",
            "|indie-pop        |\n",
            "|industrial       |\n",
            "|iranian          |\n",
            "|j-dance          |\n",
            "|j-idol           |\n",
            "|j-pop            |\n",
            "|j-rock           |\n",
            "|jazz             |\n",
            "|k-pop            |\n",
            "|kids             |\n",
            "|latin            |\n",
            "|latino           |\n",
            "|malay            |\n",
            "|mandopop         |\n",
            "|metal            |\n",
            "|metalcore        |\n",
            "|minimal-techno   |\n",
            "|mpb              |\n",
            "|new-age          |\n",
            "|opera            |\n",
            "|pagode           |\n",
            "|party            |\n",
            "|piano            |\n",
            "|pop              |\n",
            "|pop-film         |\n",
            "|power-pop        |\n",
            "|progressive-house|\n",
            "|psych-rock       |\n",
            "|punk             |\n",
            "|punk-rock        |\n",
            "|r-n-b            |\n",
            "|reggae           |\n",
            "|reggaeton        |\n",
            "|rock             |\n",
            "|rock-n-roll      |\n",
            "|rockabilly       |\n",
            "|romance          |\n",
            "|sad              |\n",
            "|salsa            |\n",
            "|samba            |\n",
            "|sertanejo        |\n",
            "|show-tunes       |\n",
            "|singer-songwriter|\n",
            "|ska              |\n",
            "|sleep            |\n",
            "|soul             |\n",
            "|spanish          |\n",
            "|study            |\n",
            "|swedish          |\n",
            "|synth-pop        |\n",
            "|tango            |\n",
            "|techno           |\n",
            "|trance           |\n",
            "|trip-hop         |\n",
            "|turkish          |\n",
            "|world-music      |\n",
            "+-----------------+\n",
            "\n"
          ]
        }
      ]
    },
    {
      "cell_type": "markdown",
      "source": [
        "The first method we use to measure which features are more related to popularity is Pearson correlation, that measures linear correlation."
      ],
      "metadata": {
        "id": "iSKL_4FCFyJj"
      }
    },
    {
      "cell_type": "code",
      "source": [
        "from pyspark.sql.functions import corr\n",
        "\n",
        "# features list = normalized + genre\n",
        "features = [\n",
        "    \"duration_ms\", \"danceability\", \"energy\", \"loudness\", \"speechiness\",\n",
        "    \"acousticness\", \"instrumentalness\", \"liveness\", \"valence\", \"tempo\",\n",
        "]\n",
        "\n",
        "target = \"popularity\"\n",
        "\n",
        "# compute Pearson correlations\n",
        "for f in features:\n",
        "      val = df.select(corr(f, target).alias(\"pearson\")).first()[\"pearson\"]\n",
        "      print(f\"{f}: {val}\")\n"
      ],
      "metadata": {
        "colab": {
          "base_uri": "https://localhost:8080/"
        },
        "id": "bM_sjpXD-G16",
        "outputId": "71035e15-a723-4eee-b22c-f2e0be304c6f"
      },
      "execution_count": 15,
      "outputs": [
        {
          "output_type": "stream",
          "name": "stdout",
          "text": [
            "duration_ms: -0.026133590373498748\n",
            "danceability: 0.06441783681073995\n",
            "energy: 0.010517422990191996\n",
            "loudness: 0.07181346617003292\n",
            "speechiness: -0.05764466206947346\n",
            "acousticness: -0.03398465375724745\n",
            "instrumentalness: -0.14280024447061582\n",
            "liveness: -0.003702257055405736\n",
            "valence: -0.01055307618235016\n",
            "tempo: 0.005504772230825541\n"
          ]
        }
      ]
    },
    {
      "cell_type": "markdown",
      "source": [
        "From the results, we can see how musical features are basically non linearly realted to popularity (all values close to 0).\n"
      ],
      "metadata": {
        "id": "UV5lG8QVFW5K"
      }
    },
    {
      "cell_type": "markdown",
      "source": [
        "Let's now see what is the most popular genre"
      ],
      "metadata": {
        "id": "hfSyocJCFng9"
      }
    },
    {
      "cell_type": "code",
      "source": [
        "df.groupBy(\"track_genre\") \\\n",
        "  .agg(F.avg(\"popularity\").alias(\"avg_popularity\")) \\\n",
        "  .orderBy(F.desc(\"avg_popularity\")) \\\n",
        "  .show(20, truncate=False)\n"
      ],
      "metadata": {
        "colab": {
          "base_uri": "https://localhost:8080/"
        },
        "id": "2j9cI-PbDkZb",
        "outputId": "5d70918a-6ee1-4d3d-c433-17f9dd1e337f"
      },
      "execution_count": 16,
      "outputs": [
        {
          "output_type": "stream",
          "name": "stdout",
          "text": [
            "+-----------------+------------------+\n",
            "|track_genre      |avg_popularity    |\n",
            "+-----------------+------------------+\n",
            "|pop-film         |60.43849938499385 |\n",
            "|k-pop            |59.536026200873366|\n",
            "|metal            |57.510822510822514|\n",
            "|chill            |55.79209979209979 |\n",
            "|latino           |51.78894472361809 |\n",
            "|sad              |51.72679509632224 |\n",
            "|grunge           |50.69257540603248 |\n",
            "|indian           |50.43715846994535 |\n",
            "|progressive-house|50.34675141242938 |\n",
            "|anime            |49.07688442211055 |\n",
            "|emo              |48.61129032258064 |\n",
            "|sertanejo        |47.823244552058114|\n",
            "|deep-house       |47.58410732714138 |\n",
            "|piano            |47.22911392405063 |\n",
            "|reggaeton        |47.21052631578947 |\n",
            "|hard-rock        |45.99716312056738 |\n",
            "|ambient          |45.80360721442886 |\n",
            "|brazil           |45.75613660618997 |\n",
            "|pagode           |45.57810650887574 |\n",
            "|mandopop         |45.33256880733945 |\n",
            "+-----------------+------------------+\n",
            "only showing top 20 rows\n",
            "\n"
          ]
        }
      ]
    },
    {
      "cell_type": "markdown",
      "source": [
        "So pop music on average produces the most popular songs."
      ],
      "metadata": {
        "id": "6dKbtYfx8DCJ"
      }
    },
    {
      "cell_type": "markdown",
      "source": [
        "Let's now train a regressor with lasso and see which are the biggest weights: in this phase we consider only musical features without the genre."
      ],
      "metadata": {
        "id": "JOQT8Y3-GDQi"
      }
    },
    {
      "cell_type": "code",
      "source": [
        "from pyspark.ml.feature import VectorAssembler\n",
        "from pyspark.ml.regression import LinearRegression\n",
        "from pyspark.ml.evaluation import RegressionEvaluator\n",
        "\n",
        "features_z = [\n",
        "    \"duration_ms_z\",\"danceability_z\",\"energy_z\",\"loudness_z\",\"speechiness_z\",\n",
        "    \"acousticness_z\",\"instrumentalness_z\",\"liveness_z\",\"valence_z\",\"tempo_z\"\n",
        "]\n",
        "target = \"popularity\"\n",
        "\n",
        "data_z = VectorAssembler(inputCols=features_z, outputCol=\"features\") \\\n",
        "           .transform(df.select(*features_z, target).dropna()) \\\n",
        "           .select(\"features\", target)\n",
        "\n",
        "train, test = data_z.randomSplit([0.8, 0.2], seed=42)\n",
        "\n",
        "lasso = LinearRegression(\n",
        "    featuresCol=\"features\", labelCol=target,\n",
        "    elasticNetParam=1.0, regParam=0.1,  # try 0.1; adjust if needed\n",
        "    standardization=False               # already using *_z\n",
        ")\n",
        "model = lasso.fit(train)\n",
        "\n",
        "pred = model.transform(test)\n",
        "rmse = RegressionEvaluator(labelCol=target, predictionCol=\"prediction\", metricName=\"rmse\").evaluate(pred)\n",
        "r2   = RegressionEvaluator(labelCol=target, predictionCol=\"prediction\", metricName=\"r2\").evaluate(pred)\n",
        "print(f\"RMSE={rmse:.4f}  R2={r2:.4f}\")\n",
        "\n",
        "for name, coef in zip(features_z, model.coefficients.toArray()):\n",
        "    print(f\"{name}: {coef:.6f}\")\n",
        "print(\"Intercept:\", model.intercept)\n"
      ],
      "metadata": {
        "colab": {
          "base_uri": "https://localhost:8080/"
        },
        "id": "K3jVn7JrICd9",
        "outputId": "9800d626-f464-49be-8551-c11c63a4bee3"
      },
      "execution_count": 17,
      "outputs": [
        {
          "output_type": "stream",
          "name": "stdout",
          "text": [
            "RMSE=19.7017  R2=0.0351\n",
            "duration_ms_z: -0.323973\n",
            "danceability_z: 1.752434\n",
            "energy_z: 0.000000\n",
            "loudness_z: 0.063580\n",
            "speechiness_z: -1.497382\n",
            "acousticness_z: -0.184734\n",
            "instrumentalness_z: -3.158445\n",
            "liveness_z: 0.140284\n",
            "valence_z: -2.102659\n",
            "tempo_z: 0.000000\n",
            "Intercept: 32.98485153172252\n"
          ]
        }
      ]
    },
    {
      "cell_type": "markdown",
      "source": [
        "Also in this case, all the weights are close to zero, showing that popularity is not particularly correlated to any musical feature of songs."
      ],
      "metadata": {
        "id": "thPjBi_12Nnr"
      }
    },
    {
      "cell_type": "markdown",
      "source": [
        "We now add the genre. To do it we first have to one hot encode all the genre and see how every genre is related to popularity."
      ],
      "metadata": {
        "id": "p4Ok0rjx2ZKT"
      }
    },
    {
      "cell_type": "code",
      "source": [
        "from pyspark.ml.feature import StringIndexer, OneHotEncoder, VectorAssembler\n",
        "from pyspark.ml.regression import LinearRegression\n",
        "from pyspark.ml import Pipeline\n",
        "from pyspark.ml.evaluation import RegressionEvaluator\n",
        "\n",
        "# ---- features: normalized numeric + genre\n",
        "features_z = [\n",
        "    \"duration_ms_z\",\"danceability_z\",\"energy_z\",\"loudness_z\",\"speechiness_z\",\n",
        "    \"acousticness_z\",\"instrumentalness_z\",\"liveness_z\",\"valence_z\",\"tempo_z\"\n",
        "]\n",
        "target = \"popularity\"\n",
        "\n",
        "# ---- stages\n",
        "indexer = StringIndexer(inputCol=\"track_genre\", outputCol=\"genre_idx\", handleInvalid=\"keep\")\n",
        "encoder = OneHotEncoder(inputCols=[\"genre_idx\"], outputCols=[\"genre_oh\"], handleInvalid=\"keep\")\n",
        "assembler = VectorAssembler(inputCols=features_z + [\"genre_oh\"], outputCol=\"features\")\n",
        "\n",
        "# ---- Lasso regressor\n",
        "lasso = LinearRegression(\n",
        "    featuresCol=\"features\", labelCol=target,\n",
        "    elasticNetParam=1.0, regParam=0.1,  # 1.0 = Lasso\n",
        "    standardization=False               # features_z already normalized\n",
        ")\n",
        "\n",
        "# ---- pipeline\n",
        "pipe = Pipeline(stages=[indexer, encoder, assembler, lasso])\n",
        "\n",
        "# ---- train/test split\n",
        "train, test = df.select(*features_z, \"track_genre\", target).dropna().randomSplit([0.8,0.2], seed=42)\n",
        "\n",
        "model = pipe.fit(train)\n",
        "pred = model.transform(test)\n",
        "\n",
        "# ---- evaluation\n",
        "rmse = RegressionEvaluator(labelCol=target, predictionCol=\"prediction\", metricName=\"rmse\").evaluate(pred)\n",
        "r2   = RegressionEvaluator(labelCol=target, predictionCol=\"prediction\", metricName=\"r2\").evaluate(pred)\n",
        "print(f\"RMSE={rmse:.4f}  R2={r2:.4f}\")\n"
      ],
      "metadata": {
        "colab": {
          "base_uri": "https://localhost:8080/"
        },
        "id": "cCLTmRxUIfon",
        "outputId": "4a983ab5-9c34-4605-8fc7-7e7e2b87a265"
      },
      "execution_count": 18,
      "outputs": [
        {
          "output_type": "stream",
          "name": "stdout",
          "text": [
            "RMSE=17.4576  R2=0.2425\n"
          ]
        }
      ]
    },
    {
      "cell_type": "code",
      "source": [
        "# After fitting the pipeline as shown earlier:\n",
        "stages = model.stages  # indexer, encoder, assembler, lasso\n",
        "lasso_model = stages[-1]   # last stage is the LinearRegressionModel\n",
        "indexer_model = stages[0]  # first stage is the StringIndexerModel\n",
        "\n",
        "# Numeric features\n",
        "numeric_coefs = list(zip(features_z, lasso_model.coefficients.toArray()[:len(features_z)]))\n",
        "\n",
        "# Genre dummies (names come from StringIndexer labels)\n",
        "genre_labels = indexer_model.labels  # list of genres in order\n",
        "genre_coefs = list(zip(genre_labels, lasso_model.coefficients.toArray()[len(features_z):]))\n",
        "\n",
        "# Print nicely\n",
        "print(\"=== Numeric feature coefficients ===\")\n",
        "for name, coef in numeric_coefs:\n",
        "    print(f\"{name}: {coef:.6f}\")\n",
        "\n",
        "print(\"\\n=== Genre coefficients (one-hot dummies) ===\")\n",
        "for name, coef in genre_coefs:\n",
        "    print(f\"{name}: {coef:.6f}\")\n",
        "\n",
        "print(\"\\nIntercept:\", lasso_model.intercept)\n"
      ],
      "metadata": {
        "colab": {
          "base_uri": "https://localhost:8080/"
        },
        "id": "UyVyg27PIrZR",
        "outputId": "5d953702-7d09-4e42-f0c0-e76ed1b268f7"
      },
      "execution_count": 19,
      "outputs": [
        {
          "output_type": "stream",
          "name": "stdout",
          "text": [
            "=== Numeric feature coefficients ===\n",
            "duration_ms_z: -0.115443\n",
            "danceability_z: 1.537769\n",
            "energy_z: -0.000444\n",
            "loudness_z: 0.000000\n",
            "speechiness_z: -1.402478\n",
            "acousticness_z: -0.047980\n",
            "instrumentalness_z: -2.544774\n",
            "liveness_z: 0.000000\n",
            "valence_z: -1.729704\n",
            "tempo_z: 0.000000\n",
            "\n",
            "=== Genre coefficients (one-hot dummies) ===\n",
            "disney: 0.000000\n",
            "grindcore: -6.352251\n",
            "kids: -12.149089\n",
            "club: 0.000000\n",
            "heavy-metal: -0.394409\n",
            "anime: 7.098520\n",
            "study: 0.000000\n",
            "children: 0.000000\n",
            "j-idol: -1.784057\n",
            "cantopop: 0.000000\n",
            "happy: -3.826150\n",
            "acoustic: 0.000000\n",
            "afrobeat: 0.000000\n",
            "honky-tonk: -10.998819\n",
            "ambient: 6.173441\n",
            "black-metal: -1.571464\n",
            "breakbeat: -5.253905\n",
            "new-age: 0.000000\n",
            "tango: -4.874919\n",
            "alt-rock: 0.000000\n",
            "chicago-house: -11.909741\n",
            "malay: 0.000000\n",
            "salsa: 0.000000\n",
            "sleep: 0.000000\n",
            "comedy: 0.000000\n",
            "idm: -7.725719\n",
            "drum-and-bass: 0.000000\n",
            "iranian: -19.117606\n",
            "spanish: 0.000000\n",
            "forro: 0.000000\n",
            "bluegrass: -0.020148\n",
            "chill: 10.445653\n",
            "deep-house: 2.724876\n",
            "dancehall: 0.000000\n",
            "detroit-techno: -11.515952\n",
            "emo: 3.090889\n",
            "blues: 0.000000\n",
            "brazil: 0.708654\n",
            "country: -8.705897\n",
            "dance: -1.971222\n",
            "world-music: 0.000000\n",
            "disco: 0.000000\n",
            "dub: 0.000000\n",
            "garage: 0.000000\n",
            "show-tunes: 0.000000\n",
            "goth: 0.000000\n",
            "trip-hop: 0.000000\n",
            "hardstyle: 0.000000\n",
            "romance: -21.853919\n",
            "guitar: 0.000000\n",
            "power-pop: 0.000000\n",
            "turkish: 0.000000\n",
            "french: 0.000000\n",
            "k-pop: 13.631697\n",
            "minimal-techno: 0.000000\n",
            "death-metal: 0.000000\n",
            "mandopop: 0.000000\n",
            "british: 0.676716\n",
            "rock-n-roll: 0.000000\n",
            "folk: 0.000000\n",
            "grunge: 4.825794\n",
            "classical: -5.498066\n",
            "hip-hop: 0.000000\n",
            "electronic: 0.000000\n",
            "pagode: 0.641053\n",
            "party: 0.000000\n",
            "synth-pop: 0.000000\n",
            "sertanejo: 1.938248\n",
            "industrial: 0.000000\n",
            "mpb: 0.000000\n",
            "piano: 4.712000\n",
            "opera: -0.725004\n",
            "pop-film: 13.584038\n",
            "funk: 0.000000\n",
            "swedish: 0.000000\n",
            "trance: 0.000000\n",
            "hardcore: 0.000000\n",
            "ska: 0.000000\n",
            "j-dance: 0.000000\n",
            "german: 0.000000\n",
            "indian: 2.337340\n",
            "latin: -22.034655\n",
            "hard-rock: 0.000000\n",
            "edm: 0.000000\n",
            "j-pop: 0.000000\n",
            "progressive-house: 2.519458\n",
            "metalcore: 0.000000\n",
            "gospel: 0.000000\n",
            "groove: 0.000000\n",
            "rockabilly: 0.000000\n",
            "punk-rock: 0.000000\n",
            "samba: 0.000000\n",
            "psych-rock: 0.000000\n",
            "indie-pop: 0.000000\n",
            "electro: 0.000000\n",
            "sad: 0.313833\n",
            "singer-songwriter: 0.000000\n",
            "jazz: -17.708350\n",
            "r-n-b: 0.000000\n",
            "soul: 0.000000\n",
            "j-rock: 0.000000\n",
            "techno: 0.000000\n",
            "pop: 0.000000\n",
            "rock: -9.224832\n",
            "latino: 0.000000\n",
            "alternative: 0.000000\n",
            "reggae: 0.000000\n",
            "dubstep: 0.000000\n",
            "punk: 0.000000\n",
            "metal: 0.000000\n",
            "house: 0.000000\n",
            "indie: 0.000000\n",
            "reggaeton: 0.000000\n",
            "\n",
            "Intercept: 34.022266794128456\n"
          ]
        }
      ]
    },
    {
      "cell_type": "markdown",
      "source": [
        "We can notice that some genre impact more than other on the popularity of the song, both positively and negatively: for example kpop has a weight of +15, while jazz of -16"
      ],
      "metadata": {
        "id": "VsJoHBvj2qor"
      }
    },
    {
      "cell_type": "markdown",
      "source": [
        "Now we fit a random forest and measure the feature importance as last method to find a pattern between popularity and genre."
      ],
      "metadata": {
        "id": "M6zfAYxP3A9P"
      }
    },
    {
      "cell_type": "code",
      "source": [
        "# ========= ROBUST RANDOM FOREST (drop-in) =========\n",
        "# Uses your same RF pipeline/params; only ensures Spark/df are usable.\n",
        "\n",
        "from pyspark.sql import SparkSession\n",
        "\n",
        "# 1) Ensure Spark is alive; start fresh only if needed (no change if it's already running)\n",
        "try:\n",
        "    spark.range(1).count()\n",
        "except Exception:\n",
        "    try:\n",
        "        spark.stop()\n",
        "    except Exception:\n",
        "        pass\n",
        "    spark = (SparkSession.builder\n",
        "             .appName(\"spotify-feature-importance-rf\")\n",
        "             .master(\"local[*]\")\n",
        "             .config(\"spark.ui.showConsoleProgress\", \"false\")\n",
        "             .config(\"spark.driver.bindAddress\", \"127.0.0.1\")\n",
        "             .config(\"spark.driver.host\", \"127.0.0.1\")\n",
        "             .config(\"spark.driver.memory\", \"6g\")        # bump if needed\n",
        "             .config(\"spark.sql.shuffle.partitions\", \"64\")\n",
        "             .getOrCreate())\n",
        "\n",
        "# 2) Make sure df is valid for THIS session; otherwise re-read just the needed columns\n",
        "READ_PATH = \"file:///content/drive/MyDrive/data/spotify/silver_parquet\"  # adjust if your path differs\n",
        "need_cols = [\n",
        "    \"track_genre\",\"popularity\",\n",
        "    \"duration_ms_z\",\"danceability_z\",\"energy_z\",\"loudness_z\",\"speechiness_z\",\n",
        "    \"acousticness_z\",\"instrumentalness_z\",\"liveness_z\",\"valence_z\",\"tempo_z\"\n",
        "]\n",
        "try:\n",
        "    _ = df.select(*need_cols).limit(1).count()\n",
        "except Exception:\n",
        "    df = (spark.read.parquet(READ_PATH)\n",
        "          .select(*need_cols)\n",
        "          .dropna())\n",
        "\n",
        "# 3) Features/target (reuse if already defined; otherwise define)\n",
        "try:\n",
        "    features_z\n",
        "except NameError:\n",
        "    features_z = [\n",
        "        \"duration_ms_z\",\"danceability_z\",\"energy_z\",\"loudness_z\",\"speechiness_z\",\n",
        "        \"acousticness_z\",\"instrumentalness_z\",\"liveness_z\",\"valence_z\",\"tempo_z\"\n",
        "    ]\n",
        "target = \"popularity\"\n",
        "\n",
        "# 4) Pipeline: index → one-hot → assemble → RF (same params you used)\n",
        "from pyspark.ml.feature import StringIndexer, OneHotEncoder, VectorAssembler\n",
        "from pyspark.ml.regression import RandomForestRegressor\n",
        "from pyspark.ml import Pipeline\n",
        "from pyspark.ml.evaluation import RegressionEvaluator\n",
        "\n",
        "idx = StringIndexer(inputCol=\"track_genre\", outputCol=\"genre_idx\", handleInvalid=\"keep\")\n",
        "encoder = OneHotEncoder(inputCols=[\"genre_idx\"], outputCols=[\"genre_oh\"], handleInvalid=\"keep\")\n",
        "assembler = VectorAssembler(inputCols=features_z + [\"genre_oh\"], outputCol=\"features\")\n",
        "\n",
        "# Define the RandomForestRegressor - you can adjust these parameters\n",
        "rf = RandomForestRegressor(featuresCol=\"features\", labelCol=target, numTrees=100, maxDepth=10, seed=42)\n",
        "\n",
        "# Create the pipeline\n",
        "rf_pipeline = Pipeline(stages=[idx, encoder, assembler, rf])\n",
        "\n",
        "# Split data\n",
        "train, test = df.randomSplit([0.8, 0.2], seed=42)\n",
        "\n",
        "# Fit the model\n",
        "rf_model = rf_pipeline.fit(train)\n",
        "\n",
        "# Make predictions\n",
        "pred = rf_model.transform(test)\n",
        "\n",
        "# Evaluate the model\n",
        "rmse = RegressionEvaluator(labelCol=target, predictionCol=\"prediction\", metricName=\"rmse\").evaluate(pred)\n",
        "r2   = RegressionEvaluator(labelCol=target, predictionCol=\"prediction\", metricName=\"r2\").evaluate(pred)\n",
        "print(f\"Random Forest RMSE={rmse:.4f}  R2={r2:.4f}\")"
      ],
      "metadata": {
        "colab": {
          "base_uri": "https://localhost:8080/"
        },
        "id": "HeGbPBaWJo4s",
        "outputId": "39114293-afac-4ce0-eb27-56596c34bc44"
      },
      "execution_count": 20,
      "outputs": [
        {
          "output_type": "stream",
          "name": "stdout",
          "text": [
            "Random Forest RMSE=17.3303  R2=0.2445\n"
          ]
        }
      ]
    },
    {
      "cell_type": "markdown",
      "source": [
        "And finally we plot the results."
      ],
      "metadata": {
        "id": "2x9qEvTk3cgm"
      }
    },
    {
      "cell_type": "code",
      "source": [
        "# Map RF importances back to names and plot\n",
        "import pandas as pd\n",
        "import matplotlib.pyplot as plt\n",
        "\n",
        "rf_stage = rf_model.stages[-1]      # RandomForestRegressionModel\n",
        "assembler_model = rf_model.stages[-2] # Get the VectorAssembler model stage\n",
        "encoder_model = rf_model.stages[-3] # Get the OneHotEncoder model stage\n",
        "indexer_model = rf_model.stages[-4] # Get the StringIndexer model stage\n",
        "\n",
        "\n",
        "importances = rf_stage.featureImportances.toArray()\n",
        "\n",
        "# Apply the stages up to the assembler to a small sample of the training data\n",
        "# to get the schema with the assembled features and their metadata.\n",
        "temp_df = indexer_model.transform(train.limit(1))\n",
        "temp_df = encoder_model.transform(temp_df)\n",
        "assembled_temp_df = assembler_model.transform(temp_df)\n",
        "\n",
        "# Get the feature names directly from the metadata of the assembled vector column\n",
        "assembled_train_schema = assembled_temp_df.schema[\"features\"]\n",
        "feature_names = [f['name'] for f in assembled_train_schema.metadata[\"ml_attr\"][\"attrs\"][\"numeric\"] +\n",
        "                 assembled_train_schema.metadata[\"ml_attr\"][\"attrs\"][\"binary\"]]\n",
        "\n",
        "\n",
        "imp_df = pd.DataFrame({\"feature\": feature_names, \"importance\": importances})\n",
        "imp_df = imp_values = imp_df.sort_values(\"importance\", ascending=True)\n",
        "\n",
        "# Plot top 20 by importance\n",
        "top_imp = imp_df.tail(20)\n",
        "\n",
        "plt.figure(figsize=(8, 6))\n",
        "plt.barh(top_imp[\"feature\"], top_imp[\"importance\"])\n",
        "plt.title(\"Random Forest feature importances (top 20)\")\n",
        "plt.xlabel(\"Importance\")\n",
        "plt.tight_layout()\n",
        "plt.show()\n",
        "\n",
        "# (Optional) print full ranking\n",
        "# display(imp_df.sort_values(\"importance\", ascending=False))"
      ],
      "metadata": {
        "id": "6SbC3AkcKUpO",
        "colab": {
          "base_uri": "https://localhost:8080/",
          "height": 607
        },
        "outputId": "d73e2c45-b1bf-42b4-f555-e595ddc32f85"
      },
      "execution_count": 21,
      "outputs": [
        {
          "output_type": "display_data",
          "data": {
            "text/plain": [
              "<Figure size 800x600 with 1 Axes>"
            ],
            "image/png": "[encoded data removed]"
          },
          "metadata": {}
        }
      ]
    }
  ]
}